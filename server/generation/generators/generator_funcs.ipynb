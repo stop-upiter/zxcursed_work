{
 "cells": [
  {
   "cell_type": "code",
   "execution_count": 154,
   "metadata": {
    "id": "mzES_MXi7D1F"
   },
   "outputs": [],
   "source": [
    "import numpy as np\n",
    "from sympy import Eq, symbols, linsolve, latex"
   ]
  },
  {
   "cell_type": "code",
   "execution_count": 243,
   "metadata": {
    "id": "aTbG5cxv7exV"
   },
   "outputs": [],
   "source": [
    "def generate_matrix_r(n, m):\n",
    "    matrix = np.random.randint(-150,151, (n,m))\n",
    "    while(matrix.all == 0):\n",
    "        matrix = np.random.randint(-150,151, (n,m))\n",
    "    return matrix"
   ]
  },
  {
   "cell_type": "code",
   "execution_count": 245,
   "metadata": {},
   "outputs": [],
   "source": [
    "def generate_number_except(n, m, ex):\n",
    "    num =  np.random.randint(n, m)\n",
    "    while(num == ex):\n",
    "        num =  np.random.randint(n, m)\n",
    "    return num"
   ]
  },
  {
   "cell_type": "code",
   "execution_count": 246,
   "metadata": {
    "id": "NFt59N-2HUPz"
   },
   "outputs": [],
   "source": [
    "def generate_nonzero_number(n, m):\n",
    "    return generate_number_except(n, m, 0)"
   ]
  },
  {
   "cell_type": "code",
   "execution_count": 247,
   "metadata": {
    "scrolled": true
   },
   "outputs": [
    {
     "data": {
      "text/plain": [
       "array([[-252.,   99.],\n",
       "       [ 966.,  -36.]])"
      ]
     },
     "execution_count": 247,
     "metadata": {},
     "output_type": "execute_result"
    }
   ],
   "source": [
    "generate_matrix(2, 3, 2)"
   ]
  },
  {
   "cell_type": "code",
   "execution_count": 249,
   "metadata": {
    "id": "uA1bUH487jxP"
   },
   "outputs": [],
   "source": [
    "def generate_vector(n):\n",
    "    return generate_matrix_r(n, 1)"
   ]
  },
  {
   "cell_type": "code",
   "execution_count": 250,
   "metadata": {
    "id": "qU5Z3lQg-Jds"
   },
   "outputs": [],
   "source": [
    "def generate_system(): #задача 4\n",
    "    solution = generate_vector(5)\n",
    "    matrixA = generate_matrix_r(5, 5)\n",
    "    matrixB = np.dot(matrixA, solution)\n",
    "    return matrixA, matrixB, solution"
   ]
  },
  {
   "cell_type": "code",
   "execution_count": 251,
   "metadata": {
    "id": "tN84dSwq95BG"
   },
   "outputs": [],
   "source": [
    "def generate_point3D():\n",
    "    x = np.random.randint(-10, 11)\n",
    "    y = np.random.randint(-10, 11)\n",
    "    z = np.random.randint(-10, 11)\n",
    "    while(x == 0 and y == 0 and z == 0):\n",
    "        x = np.random.randint(-10, 11)\n",
    "        y = np.random.randint(-10, 11)\n",
    "        z = np.random.randint(-10, 11)\n",
    "    return (x, y, z)"
   ]
  },
  {
   "cell_type": "code",
   "execution_count": 252,
   "metadata": {
    "id": "Ao4Q-r1797eP"
   },
   "outputs": [],
   "source": [
    "def generate_4_points3D(): # задача 6\n",
    "    points = (generate_point3D(),  generate_point3D(),  generate_point3D(),  generate_point3D())\n",
    "    for i in range(0, 2):\n",
    "        while(points[0][i] == points[1][i] and points[0][i] == points[2][i] or\n",
    "           points[0][i] == points[1][i] and points[0][i] == points[3][i] or\n",
    "           points[3][i] == points[1][i] and points[1][i] == points[2][i]):\n",
    "             points = (generate_point3D(),  generate_point3D(),  generate_point3D(),  generate_point3D())\n",
    "    return points"
   ]
  },
  {
   "cell_type": "code",
   "execution_count": 244,
   "metadata": {},
   "outputs": [],
   "source": [
    "def generate_matrix(n, m, r):\n",
    "    size = min(n,m)\n",
    "    if (r<size):\n",
    "        matrix = generate_matrix(size, size, r)\n",
    "        if (n!=size):\n",
    "            add = n-size         \n",
    "    elif (size == r):\n",
    "        arr = np.eye(r)\n",
    "        for w in range (0, 3):\n",
    "            for i in range (0, r):\n",
    "                for j in range (0,r):\n",
    "                    c1 = generate_nonzero_number(-5,+5)\n",
    "                    c2 = generate_nonzero_number(-5,+5)\n",
    "                    if (i==j):\n",
    "                        while ((arr[i][j] *c1 + arr[j][j] *c2) == 0):\n",
    "                            c1 = generate_nonzero_number(-5,+5)\n",
    "                            c2 = generate_nonzero_number(-5,+5)\n",
    "                    arr[i][j] = int(arr[i][j]*c1 + arr[j][j]*c2)\n",
    "        return arr\n",
    "    else:\n",
    "        print(\"Слишком большой ранг\")\n",
    "        return None    "
   ]
  },
  {
   "cell_type": "code",
   "execution_count": 253,
   "metadata": {
    "id": "pzNNerW39zrP"
   },
   "outputs": [],
   "source": [
    "def generate_point2D():\n",
    "    x = np.random.randint(-10, 11)\n",
    "    y = np.random.randint(-10, 11)\n",
    "    while(x == 0 and y == 0):\n",
    "        x = np.random.randint(-10, 11)\n",
    "        y = np.random.randint(-10, 11)\n",
    "    return (x, y)"
   ]
  },
  {
   "cell_type": "code",
   "execution_count": 254,
   "metadata": {
    "id": "HlN47Pd-Gfsd"
   },
   "outputs": [],
   "source": [
    "def generate_4_points2D():# задача 8\n",
    "    points = (generate_point2D(),  generate_point2D(),  generate_point2D(),  generate_point2D())\n",
    "    for i in range(0, 1):\n",
    "        while(points[0][i] == points[1][i] and points[0][i] == points[2][i] or\n",
    "           points[0][i] == points[1][i] and points[0][i] == points[3][i] or\n",
    "           points[3][i] == points[1][i] and points[1][i] == points[2][i]):\n",
    "            points = (generate_point2D(),  generate_point2D(),  generate_point2D(),  generate_point2D())\n",
    "    return points"
   ]
  },
  {
   "cell_type": "code",
   "execution_count": 255,
   "metadata": {
    "id": "XAhoSaisG86q"
   },
   "outputs": [],
   "source": [
    "def generate_coeffs_irrational(): # задача 10\n",
    "    return [generate_nonzero_number(-100, 100), generate_nonzero_number(-100, 100),\n",
    "            generate_nonzero_number(-100, 100), generate_nonzero_number(-100, 100), \n",
    "            generate_nonzero_number(-100, 100), generate_nonzero_number(-100, 100)]"
   ]
  },
  {
   "cell_type": "code",
   "execution_count": 264,
   "metadata": {
    "id": "zdrl5HFDIoDD"
   },
   "outputs": [],
   "source": [
    "def generate_base():\n",
    "    e =  (np.matrix([generate_vector(3).flatten(),  generate_vector(3).flatten(), generate_vector(3).flatten()])).transpose()\n",
    "    print(e)\n",
    "    rank = np.linalg.matrix_rank(e)\n",
    "    while(rank < 3): \n",
    "        e = (generate_vector(3), generate_vector(3), generate_vector(3))\n",
    "        rank = np.linalg.matrix_rank(e)\n",
    "    return [np.array(e[:, 0]), np.array(e[:, 1]), np.array(e[:, 2])]"
   ]
  },
  {
   "cell_type": "code",
   "execution_count": 271,
   "metadata": {
    "id": "QFZfCwB9MG_r"
   },
   "outputs": [],
   "source": [
    "# задача 12\n",
    "def gen_12():\n",
    "    return [generate_matrix_r(3, 3)] + generate_base()"
   ]
  },
  {
   "cell_type": "code",
   "execution_count": 344,
   "metadata": {
    "id": "o6RhYXV78QzT"
   },
   "outputs": [],
   "source": [
    "angles = [\"𝛑/3\", \"2*𝛑/3\", \"𝛑/4\", \"3*𝛑/4\", \"𝛑/6\", \"5*𝛑/6\"]\n",
    "angles_frac = [\"\\\\frac{\\\\pi}{3}\", \"\\\\frac{2\\\\pi}{3}\", \"\\\\frac{\\\\pi}{4}\", \n",
    "          \"\\\\frac{3\\\\pi}{4}\", \"\\\\frac{\\\\pi}{6}\", \"\\\\frac{5\\\\pi}{6}\"]\n",
    "def generate_angle():\n",
    "    return angles[np.random.randint(0, 6)]\n",
    "\n",
    "def generate_angle_frac():\n",
    "    return angles[np.random.randint(0, 6)]"
   ]
  },
  {
   "cell_type": "code",
   "execution_count": 331,
   "metadata": {
    "id": "DIf41ggPJQrk"
   },
   "outputs": [],
   "source": [
    "parabola_types = [\"y^2 = 2px\", \"x^2 = 2py\"]\n",
    "def generate_parabola_type():\n",
    "    return parabola_types[np.random.randint(0, 2)]"
   ]
  },
  {
   "cell_type": "code",
   "execution_count": 332,
   "metadata": {
    "colab": {
     "base_uri": "https://localhost:8080/",
     "height": 36
    },
    "id": "cAJkPVMMJrZS",
    "outputId": "d7c5779a-a4b3-4ab3-a75b-f06a2bcdc1be"
   },
   "outputs": [],
   "source": [
    "def gen_14():\n",
    "    point = generate_point2D()\n",
    "    parabola_type = generate_parabola_type()\n",
    "    angle = generate_angle()\n",
    "    return [point, ]\n",
    "# задача 14"
   ]
  },
  {
   "cell_type": "code",
   "execution_count": 345,
   "metadata": {},
   "outputs": [],
   "source": [
    "def gen_16():\n",
    "    return [generate_nonzero_number(-10, 10), generate_angle_frac()]"
   ]
  },
  {
   "cell_type": "code",
   "execution_count": 276,
   "metadata": {
    "id": "icqBjmvtJtWI"
   },
   "outputs": [
    {
     "data": {
      "text/plain": [
       "(array([[ -83,  -96,  124,   12],\n",
       "        [ 140,  -22,   98,  148],\n",
       "        [-129, -115,   42,  120],\n",
       "        [  73,   11,    3,   13]]),\n",
       " array([[ -78],\n",
       "        [-128],\n",
       "        [  85],\n",
       "        [-114]]))"
      ]
     },
     "execution_count": 276,
     "metadata": {},
     "output_type": "execute_result"
    }
   ],
   "source": [
    "def gen_4():\n",
    "    matrixB = generate_vector(4)\n",
    "    matrixA = generate_matrix_r(4, 4)\n",
    "    return [matrixA, matrixB] "
   ]
  },
  {
   "cell_type": "code",
   "execution_count": 316,
   "metadata": {},
   "outputs": [],
   "source": [
    "def markdown_matrix(value, name=\"A\"):\n",
    "    align_start=\"\\\\begin{align*}\"+\"\\n\"\n",
    "    name_text = name+\" =\\n\"\n",
    "    matrix_start=\"\\\\left(\\\\begin{matrix}\\n\"\n",
    "    add = \"\"\n",
    "    for i in range (0, value.shape[0]):\n",
    "        for j in range (0, value.shape[1]):\n",
    "            if (j>0):\n",
    "                add+=\" & \"\n",
    "            add+= str(value[i][j])\n",
    "            if (j == value.shape[1]-1):\n",
    "                if (i != value.shape[0]-1):\n",
    "                    add+=\" \\\\\"\n",
    "                add+=\"\\n\"\n",
    "    matrix_end=\"\\\\end{matrix}\\\\right)\\n\"\n",
    "    align_end=\"\\\\end{align*}\\n\"\n",
    "    return align_start+name_text+matrix_start+add+matrix_end+align_end"
   ]
  },
  {
   "cell_type": "code",
   "execution_count": 317,
   "metadata": {},
   "outputs": [
    {
     "data": {
      "text/plain": [
       "'\\\\begin{align*}\\nA =\\n\\\\left(\\\\begin{matrix}\\n129 & 30 & -45 \\\\\\n-115 & 113 & -9 \\\\\\n-100 & -18 & -74\\n\\\\end{matrix}\\\\right)\\n\\\\end{align*}\\n'"
      ]
     },
     "execution_count": 317,
     "metadata": {},
     "output_type": "execute_result"
    }
   ],
   "source": [
    "markdown_matrix(generate_matrix_r(3,3))"
   ]
  },
  {
   "cell_type": "code",
   "execution_count": 318,
   "metadata": {},
   "outputs": [],
   "source": [
    "def generate_lab_2_indtask():\n",
    "    needs_for_lab_2 = gen_2()\n",
    "    matrix_a = markdown_matrix(needs_for_lab_2, \"$A$\")\n",
    "    \n",
    "    add_text = matrix_a\n",
    "    text_4=[\"### Индивидуальное задание\\n\",\n",
    "            \"В данной матрице\\n\",\n",
    "            add_text,\n",
    "            \"выполнить заданные подстановки, результат каждой подстановки выводить в виде отдельной матрицы.\"]\n",
    "    return text_4"
   ]
  },
  {
   "cell_type": "code",
   "execution_count": 318,
   "metadata": {},
   "outputs": [],
   "source": [
    "def generate_lab_4_indtask():\n",
    "    needs_for_lab_4 = gen_4()\n",
    "    matrix_a = markdown_matrix(needs_for_lab_4[0], \"$A$\")\n",
    "    vector_b = markdown_matrix(needs_for_lab_4[1], \"$b$\")\n",
    "    \n",
    "    add_text = matrix_a+vector_b\n",
    "    text_4=[\"### Индивидуальное задание\\n\",\n",
    "            \"Дана СЛАУ $AX = b$, где\\n\",\n",
    "            add_text,\n",
    "            \"Проверить совместность по теореме Кронекера-Капелли.\\n\",\n",
    "            \"Если СЛАУ совместна, проверить единственность решения.\\n\",\n",
    "           \"Для соответствующей однородной СЛАУ проверить существование нетривиального решения.\\n\",\n",
    "           \"В случае, если оно существует, найти размерность пространства решений и составить ФСР и общее решение однородной СЛАУ.\"]\n",
    "    return text_4"
   ]
  },
  {
   "cell_type": "code",
   "execution_count": 318,
   "metadata": {},
   "outputs": [],
   "source": [
    "def generate_lab_6_indtask():\n",
    "    needs_for_lab_6 = generate_4_points3D()\n",
    "    text_6=[\"### Индивидуальное задание\\n\",\n",
    "            \"Даны точки в пространстве:$A$ $\" \n",
    "            + str(needs_for_lab_6[0])\n",
    "            + \"$, $B$ $\"\n",
    "            + str(needs_for_lab_6[1])\n",
    "            + \"$, $C$ $\"\n",
    "            + str(needs_for_lab_6[2])\n",
    "            + \"$ и $M$ $\"\n",
    "            + str(needs_for_lab_6[3])\n",
    "            + \"$.\\n\",\n",
    "            \"Найти угол между прямой $AB$ и плоскостью $z = 0$, угол между $AC$ и $CM$, угол между плоскостями $ABC$ и $BCM$.\\n\",\n",
    "            \"Составить уравнение: \\n\",\n",
    "            \"\\n\",\n",
    "            \"a) плоскости, параллельной $ABC$ и проходящей через начало координат,\\n\",\n",
    "            \"\\n\",\n",
    "            \"b) плоскости, перпендикулярной $ABC$ и проходящей через $A$ и $M$,\\n\",\n",
    "            \"\\n\",\n",
    "            \"c) прямой, перпендикулярной $ABC$ и проходящей через $C$.\"]\n",
    "    return text_6"
   ]
  },
  {
   "cell_type": "code",
   "execution_count": 319,
   "metadata": {},
   "outputs": [],
   "source": [
    "def generate_lab_8_indtask():\n",
    "    needs_for_lab_8 = generate_4_points2D()\n",
    "    text_8=[\"### Индивидуальное задание\\n\",\n",
    "            \"Даны точки на плоскости:$L$ $\"\n",
    "            + str(needs_for_lab_8[0])\n",
    "            + \"$, $M$ $\"\n",
    "            + str(needs_for_lab_8[1])\n",
    "            + \"$, $N$ $\"\n",
    "            + str(needs_for_lab_8[2])\n",
    "            + \"$ и $P$ $\"\n",
    "            + str(needs_for_lab_8[3])\n",
    "            + \"$.\\n\",\n",
    "            \"Построить отрезок $LM$ и луч $MN$, составить уравнения серединного перпендикуляра  к $LM$ и перпендикуляра к $MN$, проходящего через точку $P$, найти точку пересечения перпендикуляров.\\n\",\n",
    "            \"Построить на графике отрезок, луч (в виде отрезка) и оба перпендикуляра, отметить и подписать концы отрезка и начало луча (точку M), а также точку пересечения перпендикуляров и основания перпендикуляров (точки пересечения перпендикуляров с отрезком и лучом соответственно).\\n\",\n",
    "            \"В легенду включить уравнения перпендикуляров и уравнения прямых, на которых лежат отрезок и луч.\"]\n",
    "    return text_8"
   ]
  },
  {
   "cell_type": "code",
   "execution_count": 320,
   "metadata": {},
   "outputs": [],
   "source": [
    "def generate_lab_10_indtask():\n",
    "    needs_for_lab_10 = generate_coeffs_irrational()\n",
    "    add_text =  \"Решить уравнение: $\"\n",
    "    add_text+= \"(\" + str(needs_for_lab_10[0]) \n",
    "    add_text+=  (\"+\" if (needs_for_lab_10[1]>0) else \"\") + str(needs_for_lab_10[1]) \n",
    "    add_text+= \"i)x^2+(\"\n",
    "    add_text+= str(needs_for_lab_10[2])\n",
    "    add_text+= (\"+\" if (needs_for_lab_10[3]>0) else \"\") + str(needs_for_lab_10[3])\n",
    "    add_text+= \"i)x\"\n",
    "    add_text+= (\"+\" if (needs_for_lab_10[4]>0) else \"\") + str(needs_for_lab_10[4])\n",
    "    add_text+= (\"+\" if (needs_for_lab_10[5]>0) else \"\") + str(needs_for_lab_10[5])\n",
    "    add_text+=\"i = 0$\\n\"\n",
    "    \n",
    "    text_10=[\"### Индивидуальное задание\\n\",\n",
    "             add_text,\n",
    "            \"Для получения корней использовать sympy.roots.\\n\",\n",
    "            \"Корни уравнения вывести на экран в алгебраической, тригонометрической и экспоненциальной форме.\"]\n",
    "    return text_10"
   ]
  },
  {
   "cell_type": "code",
   "execution_count": 321,
   "metadata": {},
   "outputs": [],
   "source": [
    "def generate_lab_12_indtask():\n",
    "    needs_for_lab_12 = gen_12()\n",
    "    matrix_a = markdown_matrix(needs_for_lab_12[0], \"A\")\n",
    "    vector_e1 = markdown_matrix(needs_for_lab_12[1], \"$e_1$\")\n",
    "    vector_e2 = markdown_matrix(needs_for_lab_12[2], \"$e_2$\")\n",
    "    vector_e3 = markdown_matrix(needs_for_lab_12[3], \"$e_3$\")\n",
    "    \n",
    "    add_text = matrix_a+vector_e1+vector_e2+vector_e3\n",
    "    \n",
    "    text_12=[\"### Индивидуальное задание\\n\",\n",
    "            \"Найти собственные числа и собственные векторы линейного оператора. Построить матрицу оператора в заданном базисе. Построить матрицу оператора в базисе из собственных векторов.\\n\",\n",
    "            add_text,\n",
    "             \"Вывести на экран матрицу оператора А, матрицу перехода к базису ($e_1$, $e_2$, $e_3$), матрицу оператора в базисе ($e_1$, $e_2$, $e_3$), матрицу перехода к базису из собственных векторов, матрицу оператора в базисе из собственных векторов.\"]\n",
    "    return text_12"
   ]
  },
  {
   "cell_type": "code",
   "execution_count": 349,
   "metadata": {},
   "outputs": [],
   "source": [
    "def generate_lab_14_indtask():\n",
    "    needs_for_lab_14 = gen_14()\n",
    "\n",
    "    add_text = \"Построить эллипс с заданными центром $\" \n",
    "    + str(needs_for_lab_14[0]) + \"$, вертикальной полуосью $\" \n",
    "    + str(needs_for_lab_14[1]) + \"S и эксцентриситетом $\"\n",
    "    + str(needs_for_lab_14[2]) + \".\\n\"\n",
    "    \n",
    "    text_14=[\"### Индивидуальное задание\\n\",\n",
    "            add_text,\n",
    "            \"Изобразить на графике этот эллипс, а также эллипс, повернутый на угол $\\alpha$ против часовой стрелки.\\n\",\n",
    "            \"Вывести на экран центр и фокусы эллипса, длины полуосей, уравнение эллипса, вершины эллипса.\"]\n",
    "    return text_14"
   ]
  },
  {
   "cell_type": "code",
   "execution_count": 350,
   "metadata": {},
   "outputs": [],
   "source": [
    "def generate_lab_16_indtask():\n",
    "    needs_for_lab_16 = gen_16()\n",
    "    p = needs_for_lab_16[0]\n",
    "    alpha = needs_for_lab_16[1]\n",
    "    \n",
    "    add_text = \"Построить экземпляр класса Parabola - параболу $x^{2} = 2py$ с заданным $p = \"\n",
    "    + p +\"$, построить другую параболу путем поворота исходной параболы  на угол $\\alpha \"+ alpha + \"$ радиан.\\n\"\n",
    "    \n",
    "    text_16=[\"### Индивидуальное задание\\n\",\n",
    "            add_text,\n",
    "             \"Вывести на экран вершину, угол, фокус, ось симметрии и директрису обеих парабол.\\n\",\n",
    "            \"Использовать уравнения повернутой параболы, ее оси симметрии и директрисы для построения графиков в одной координатной плоскости. Парабола фиолетовая, ось симметрии зеленая, директриса черная, название графика Парабола, подписи осей $x$ и $y$.\"]\n",
    "    return text_16"
   ]
  },
  {
   "cell_type": "code",
   "execution_count": 342,
   "metadata": {},
   "outputs": [],
   "source": [
    "def generate_lab_18_indtask():\n",
    "    needs_for_lab_18 = gen_4()\n",
    "    matrix_a = markdown_matrix(needs_for_lab_18[0], \"$A$\")\n",
    "    vector_b = markdown_matrix(needs_for_lab_18[1], \"$b$\")\n",
    "    \n",
    "    add_text = matrix_a+vector_b\n",
    "    \n",
    "    text_18=[\"### Индивидуальное задание\\n\",\n",
    "            \"Решить с помощью  QR разложения матрицы $A$ систему линейных уравнений $AX = b$.\\n\",\n",
    "            add_text,\n",
    "            \"Проверить совместность СЛАУ.\"]\n",
    "    return text_18"
   ]
  },
  {
   "cell_type": "code",
   "execution_count": 338,
   "metadata": {},
   "outputs": [],
   "source": [
    "def cell_for_insert(text_arr=[], metadata_id=\"defaultId\"):\n",
    "    add_text_metadata=\"\\\"id\\\": \\\"\"+metadata_id+\"\\\",\"\n",
    "    add_text_sourse=\"\\\"source\\\": [\"\n",
    "    add_text = \"\"\n",
    "    if (len(text_arr)>0):\n",
    "        add_text=\"\\\"\"+text_arr[0]+\"\\\"\"\n",
    "        for i in range(1, len(text_arr)):\n",
    "            add_text += \",\"+\"\\\"\"+text_arr[i]+\"\\\"\"\n",
    "    add_text_end=\"]\"\n",
    "    return add_text_metadata + add_text_sourse + add_text + add_text_end"
   ]
  },
  {
   "cell_type": "code",
   "execution_count": 339,
   "metadata": {},
   "outputs": [],
   "source": [
    "def cell_markdown(text_arr=[], metadata_id=\"defaultMarkdownCell\", isFirst=False):\n",
    "    add_text_begin=\"{\\\"cell_type\\\": \\\"markdown\\\",\"\n",
    "    if (not isFirst):\n",
    "        add_text_begin=\",\"+add_text_begin\n",
    "    add_text = cell_for_insert(text_arr, metadata_id)\n",
    "    add_text_end=\"}\"\n",
    "    return add_text_begin + add_text + add_text_end"
   ]
  },
  {
   "cell_type": "code",
   "execution_count": 340,
   "metadata": {},
   "outputs": [],
   "source": [
    "def cell_code(text_arr=[], metadata_id=\"defaultCodeCell\"):\n",
    "    add_text_begin=\",{\\\"cell_type\\\": \\\"code\\\",\"\n",
    "    if (not isFirst):\n",
    "        add_text_begin=\",\"+add_text_begin\n",
    "    add_text = cell_for_insert(text_arr, metadata_id)\n",
    "    add_text_chara = \",\\\"execution_count\\\": null, \\\"outputs\\\": []}\"\n",
    "    return add_text_begin + add_text + add_text_chara"
   ]
  },
  {
   "cell_type": "code",
   "execution_count": 337,
   "metadata": {
    "scrolled": true
   },
   "outputs": [
    {
     "data": {
      "text/plain": [
       "',{\"cell_type\": \"markdown\",\"id\": \"hLHWPLDgfUHg\",\"source\": [\"### Индивидуальное задание\\n\",\"Даны точки в пространстве:$A$ $(-7, -3, 8)$, $B$ $(-7, 5, 8)$, $C$ $(2, -4, -8)$ и $M$ $(10, 9, 3)$.\\n\",\"Найти угол между прямой $AB$ и плоскостью $z = 0$, угол между $AC$ и $CM$, угол между плоскостями $ABC$ и $BCM$.\\n\",\"Составить уравнение: \\n\",\"\\n\",\"a) плоскости, параллельной $ABC$ и проходящей через начало координат,\\n\",\"\\n\",\"b) плоскости, перпендикулярной $ABC$ и проходящей через $A$ и $M$,\\n\",\"\\n\",\"c) прямой, перпендикулярной $ABC$ и проходящей через $C$.\"]}'"
      ]
     },
     "execution_count": 337,
     "metadata": {},
     "output_type": "execute_result"
    }
   ],
   "source": [
    "cell_markdown(generate_lab_6_indtask())"
   ]
  },
  {
   "cell_type": "code",
   "execution_count": 326,
   "metadata": {
    "scrolled": false
   },
   "outputs": [
    {
     "data": {
      "text/plain": [
       "',{\"cell_type\": \"markdown\",\"metadata\": {\"id\": \"hLHWPLDgfUHg\"},\"source\": [\"### Индивидуальное задание\\n\",\"Даны точки на плоскости:$L$ $(7, -9)$, $M$ $(-1, -6)$, $N$ $(7, -7)$ и $P$ $(-4, -8)$.\\n\",\"Построить отрезок $LM$ и луч $MN$, составить уравнения серединного перпендикуляра  к $LM$ и перпендикуляра к $MN$, проходящего через точку $P$, найти точку пересечения перпендикуляров.\\n\",\"Построить на графике отрезок, луч (в виде отрезка) и оба перпендикуляра, отметить и подписать концы отрезка и начало луча (точку M), а также точку пересечения перпендикуляров и основания перпендикуляров (точки пересечения перпендикуляров с отрезком и лучом соответственно).\\n\",\"В легенду включить уравнения перпендикуляров и уравнения прямых, на которых лежат отрезок и луч.\"]}'"
      ]
     },
     "execution_count": 326,
     "metadata": {},
     "output_type": "execute_result"
    }
   ],
   "source": [
    "cell_markdown(generate_lab_8_indtask())"
   ]
  },
  {
   "cell_type": "code",
   "execution_count": 327,
   "metadata": {
    "scrolled": true
   },
   "outputs": [
    {
     "data": {
      "text/plain": [
       "',{\"cell_type\": \"markdown\",\"metadata\": {\"id\": \"hLHWPLDgfUHg\"},\"source\": [\"### Индивидуальное задание\\n\",\"Решить уравнение: $(-2+93i)x^2+(-76+30i)x-27+64i = 0$\\n\",\"Для получения корней использовать sympy.roots.\\n\",\"Корни уравнения вывести на экран в алгебраической, тригонометрической и экспоненциальной форме.\"]}'"
      ]
     },
     "execution_count": 327,
     "metadata": {},
     "output_type": "execute_result"
    }
   ],
   "source": [
    "cell_markdown(generate_lab_10_indtask())"
   ]
  },
  {
   "cell_type": "code",
   "execution_count": 328,
   "metadata": {},
   "outputs": [
    {
     "name": "stdout",
     "output_type": "stream",
     "text": [
      "[[-29 -61 103]\n",
      " [  1 114  56]\n",
      " [150 -67  21]]\n"
     ]
    },
    {
     "data": {
      "text/plain": [
       "',{\"cell_type\": \"markdown\",\"metadata\": {\"id\": \"hLHWPLDgfUHg\"},\"source\": [\"### Индивидуальное задание\\n\",\"Найти собственные числа и собственные векторы линейного оператора. Построить матрицу оператора в заданном базисе. Построить матрицу оператора в базисе из собственных векторов.\\n\",\"\\\\begin{align*}\\nA =\\n\\\\left(\\\\begin{matrix}\\n-24 & -126 & -41 \\\\\\n41 & -78 & -14 \\\\\\n-126 & -5 & -82\\n\\\\end{matrix}\\\\right)\\n\\\\end{align*}\\n\\\\begin{align*}\\n$e_1$ =\\n\\\\left(\\\\begin{matrix}\\n-29 \\\\\\n1 \\\\\\n150\\n\\\\end{matrix}\\\\right)\\n\\\\end{align*}\\n\\\\begin{align*}\\n$e_2$ =\\n\\\\left(\\\\begin{matrix}\\n-61 \\\\\\n114 \\\\\\n-67\\n\\\\end{matrix}\\\\right)\\n\\\\end{align*}\\n\\\\begin{align*}\\n$e_3$ =\\n\\\\left(\\\\begin{matrix}\\n103 \\\\\\n56 \\\\\\n21\\n\\\\end{matrix}\\\\right)\\n\\\\end{align*}\\n\",\"Вывести на экран матрицу оператора А, матрицу перехода к базису ($e_1$, $e_2$, $e_3$), матрицу оператора в базисе ($e_1$, $e_2$, $e_3$), матрицу перехода к базису из собственных векторов, матрицу оператора в базисе из собственных векторов.\"]}'"
      ]
     },
     "execution_count": 328,
     "metadata": {},
     "output_type": "execute_result"
    }
   ],
   "source": [
    "cell_markdown(generate_lab_12_indtask())"
   ]
  },
  {
   "cell_type": "code",
   "execution_count": 211,
   "metadata": {
    "scrolled": true
   },
   "outputs": [
    {
     "data": {
      "text/plain": [
       "',{\"cell_type\": \"markdown\",\"metadata\": {\"id\": \"myIdIsClearAssHell\"},\"source\": [\"sadd\\n\",\"meeeh\"]}'"
      ]
     },
     "execution_count": 211,
     "metadata": {},
     "output_type": "execute_result"
    }
   ],
   "source": [
    "cell_markdown([\"sadd\\n\", \"meeeh\"], \"myIdIsClearAssHell\")"
   ]
  },
  {
   "cell_type": "code",
   "execution_count": 76,
   "metadata": {},
   "outputs": [
    {
     "data": {
      "text/plain": [
       "',{\"cell_type\": \"markdown\",\"metadata\": {\"id\": \"hLHWPLDgfUHg\"},\"source\": [\"sadd\\n\",\"meeeh\"]}'"
      ]
     },
     "execution_count": 76,
     "metadata": {},
     "output_type": "execute_result"
    }
   ],
   "source": [
    "cell_markdown([\"sadd\\n\", \"meeeh\"])"
   ]
  },
  {
   "cell_type": "code",
   "execution_count": 77,
   "metadata": {
    "scrolled": true
   },
   "outputs": [
    {
     "data": {
      "text/plain": [
       "',{\"cell_type\": \"markdown\",\"metadata\": {\"id\": \"hLHWPLDgfUHg\"},\"source\": [\"sadd\\n\"]}'"
      ]
     },
     "execution_count": 77,
     "metadata": {},
     "output_type": "execute_result"
    }
   ],
   "source": [
    "cell_markdown([\"sadd\\n\"])"
   ]
  },
  {
   "cell_type": "code",
   "execution_count": 78,
   "metadata": {},
   "outputs": [
    {
     "data": {
      "text/plain": [
       "',{\"cell_type\": \"markdown\",\"metadata\": {\"id\": \"hLHWPLDgfUHg\"},\"source\": []}'"
      ]
     },
     "execution_count": 78,
     "metadata": {},
     "output_type": "execute_result"
    }
   ],
   "source": [
    "cell_markdown([])"
   ]
  },
  {
   "cell_type": "code",
   "execution_count": 81,
   "metadata": {},
   "outputs": [
    {
     "data": {
      "text/plain": [
       "'{\"cell_type\": \"markdown\",\"metadata\": {\"id\": \"hLHWPLDgfUHg\"},\"source\": []}'"
      ]
     },
     "execution_count": 81,
     "metadata": {},
     "output_type": "execute_result"
    }
   ],
   "source": [
    "cell_markdown(isFirst=True)"
   ]
  },
  {
   "cell_type": "code",
   "execution_count": 82,
   "metadata": {},
   "outputs": [
    {
     "data": {
      "text/plain": [
       "',{\"cell_type\": \"markdown\",\"metadata\": {\"id\": \"hLHWPLDgfUHg\"},\"source\": []}'"
      ]
     },
     "execution_count": 82,
     "metadata": {},
     "output_type": "execute_result"
    }
   ],
   "source": [
    "cell_markdown()"
   ]
  },
  {
   "cell_type": "code",
   "execution_count": 351,
   "metadata": {},
   "outputs": [],
   "source": [
    "def generate_even(n):\n",
    "    add_markdown=None\n",
    "    if (n==2):\n",
    "        add_markdown=generate_lab_2_indtask\n",
    "    elif (n==4):\n",
    "        add_markdown=generate_lab_4_indtask\n",
    "    elif (n==6):\n",
    "        add_markdown=generate_lab_6_indtask\n",
    "    elif (n==8):\n",
    "        add_markdown=generate_lab_8_indtask\n",
    "    elif (n==10):\n",
    "        add_markdown=generate_lab_10_indtask\n",
    "    elif (n==12):\n",
    "        add_markdown=generate_lab_12_indtask\n",
    "    elif (n==14):\n",
    "        add_markdown=generate_lab_14_indtask\n",
    "    elif (n==16):\n",
    "        add_markdown=generate_lab_16_indtask\n",
    "    elif (n==18):\n",
    "        add_markdown=generate_lab_18_indtask\n",
    "    else:\n",
    "        return None\n",
    "    add = add_markdown+cell_code(metadataId=\"lab\"+n+\"indCodeCell\")\n",
    "    +\",\\\"nbformat\\\": 4,\\\"nbformat_minor\\\": 1]}\"\n",
    "    file = None\n",
    "    return file "
   ]
  },
  {
   "cell_type": "code",
   "execution_count": null,
   "metadata": {},
   "outputs": [],
   "source": []
  }
 ],
 "metadata": {
  "colab": {
   "provenance": []
  },
  "kernelspec": {
   "display_name": "Python 3",
   "language": "python",
   "name": "python3"
  },
  "language_info": {
   "codemirror_mode": {
    "name": "ipython",
    "version": 3
   },
   "file_extension": ".py",
   "mimetype": "text/x-python",
   "name": "python",
   "nbconvert_exporter": "python",
   "pygments_lexer": "ipython3",
   "version": "3.8.3"
  }
 },
 "nbformat": 4,
 "nbformat_minor": 1
}
