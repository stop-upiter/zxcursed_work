{
 "cells": [
  {
   "cell_type": "markdown",
   "metadata": {},
   "source": [
    "*Необходимые импорты*"
   ]
  },
  {
   "cell_type": "code",
   "execution_count": 79,
   "metadata": {
    "id": "mzES_MXi7D1F"
   },
   "outputs": [],
   "source": [
    "import numpy as np\n",
    "from sympy import Eq, symbols, linsolve, latex"
   ]
  },
  {
   "cell_type": "markdown",
   "metadata": {},
   "source": [
    "# Генерация индивидуализированных чётных лабораторных работ на курсе Компьютерный практикум по алгебре на Python"
   ]
  },
  {
   "cell_type": "markdown",
   "metadata": {},
   "source": [
    "## Функции для генерации"
   ]
  },
  {
   "cell_type": "markdown",
   "metadata": {},
   "source": [
    "Генерировать целое число в диапазоне $[n;m)$ без числа $ex$. Исключение числа $ex$ из генерации необходимо для некоторых случаев генерации."
   ]
  },
  {
   "cell_type": "code",
   "execution_count": 80,
   "metadata": {},
   "outputs": [],
   "source": [
    "def generate_number_except(n, m, ex):\n",
    "    num =  np.random.randint(n, m)\n",
    "    while(num == ex):\n",
    "        num =  np.random.randint(n, m)\n",
    "    return num"
   ]
  },
  {
   "cell_type": "markdown",
   "metadata": {},
   "source": [
    "Частным случаем необходимости исключить число из диапазона является исключение нуля."
   ]
  },
  {
   "cell_type": "code",
   "execution_count": 81,
   "metadata": {
    "id": "NFt59N-2HUPz"
   },
   "outputs": [],
   "source": [
    "def generate_nonzero_number(n, m):\n",
    "    return generate_number_except(n, m, 0)"
   ]
  },
  {
   "cell_type": "markdown",
   "metadata": {},
   "source": [
    "Бросаем монетку"
   ]
  },
  {
   "cell_type": "code",
   "execution_count": 188,
   "metadata": {},
   "outputs": [],
   "source": [
    "def random_bool():\n",
    "    return np.random.randint(0, 2) == 0"
   ]
  },
  {
   "cell_type": "markdown",
   "metadata": {},
   "source": [
    "Создадим свою функцию создания вектора для дальнейшего удобства в использовании"
   ]
  },
  {
   "cell_type": "code",
   "execution_count": 82,
   "metadata": {
    "id": "uA1bUH487jxP"
   },
   "outputs": [],
   "source": [
    "def generate_vector(n):\n",
    "    return generate_matrix_r(n, 1)"
   ]
  },
  {
   "cell_type": "markdown",
   "metadata": {},
   "source": [
    "Функция генерации рандомной матрицы размера n на m"
   ]
  },
  {
   "cell_type": "code",
   "execution_count": 83,
   "metadata": {
    "id": "aTbG5cxv7exV"
   },
   "outputs": [],
   "source": [
    "def generate_matrix_r(n, m):\n",
    "    matrix = np.random.randint(-150,151, (n,m))\n",
    "    while(matrix.all == 0):\n",
    "        matrix = np.random.randint(-150,151, (n,m))\n",
    "    return matrix"
   ]
  },
  {
   "cell_type": "markdown",
   "metadata": {},
   "source": [
    "Генерируем СЛАУ $AX = b$"
   ]
  },
  {
   "cell_type": "code",
   "execution_count": 84,
   "metadata": {
    "id": "qU5Z3lQg-Jds"
   },
   "outputs": [],
   "source": [
    "def generate_system(): #задача 4\n",
    "    solution = generate_vector(5)\n",
    "    matrixA = generate_matrix_r(5, 5)\n",
    "    matrixB = np.dot(matrixA, solution)\n",
    "    return matrixA, matrixB, solution"
   ]
  },
  {
   "cell_type": "markdown",
   "metadata": {},
   "source": [
    "Генерируем 2D точку"
   ]
  },
  {
   "cell_type": "code",
   "execution_count": 85,
   "metadata": {
    "id": "pzNNerW39zrP"
   },
   "outputs": [],
   "source": [
    "def generate_point2D():\n",
    "    x = np.random.randint(-10, 11)\n",
    "    y = np.random.randint(-10, 11)\n",
    "    while(x == 0 and y == 0):\n",
    "        x = np.random.randint(-10, 11)\n",
    "        y = np.random.randint(-10, 11)\n",
    "    return (x, y)"
   ]
  },
  {
   "cell_type": "markdown",
   "metadata": {},
   "source": [
    "Генерируем 3D точку"
   ]
  },
  {
   "cell_type": "code",
   "execution_count": 86,
   "metadata": {
    "id": "tN84dSwq95BG"
   },
   "outputs": [],
   "source": [
    "def generate_point3D():\n",
    "    x = np.random.randint(-10, 11)\n",
    "    y = np.random.randint(-10, 11)\n",
    "    z = np.random.randint(-10, 11)\n",
    "    while(x == 0 and y == 0 and z == 0):\n",
    "        x = np.random.randint(-10, 11)\n",
    "        y = np.random.randint(-10, 11)\n",
    "        z = np.random.randint(-10, 11)\n",
    "    return (x, y, z)"
   ]
  },
  {
   "cell_type": "markdown",
   "metadata": {},
   "source": [
    "Генерируем набор из четырёх точек в двумерном пространстве. Координаты точек по осям не совпадают"
   ]
  },
  {
   "cell_type": "code",
   "execution_count": 87,
   "metadata": {
    "id": "HlN47Pd-Gfsd"
   },
   "outputs": [],
   "source": [
    "def generate_4_points2D():# задача 8\n",
    "    points = (generate_point2D(),  generate_point2D(),  generate_point2D(),  generate_point2D())\n",
    "    for i in range(0, 1):\n",
    "        while(points[0][i] == points[1][i] and points[0][i] == points[2][i] or\n",
    "           points[0][i] == points[1][i] and points[0][i] == points[3][i] or\n",
    "           points[3][i] == points[1][i] and points[1][i] == points[2][i]):\n",
    "            points = (generate_point2D(),  generate_point2D(),  generate_point2D(),  generate_point2D())\n",
    "    return points"
   ]
  },
  {
   "cell_type": "markdown",
   "metadata": {},
   "source": [
    "Генерируем набор из четырёх точек в трёхмерном пространстве. Тут необходим невырожденный случай, так ещё случай, когда координаты точек в каком-либо измерении не совпадают"
   ]
  },
  {
   "cell_type": "code",
   "execution_count": 88,
   "metadata": {
    "id": "Ao4Q-r1797eP"
   },
   "outputs": [],
   "source": [
    "def generate_4_points3D(): # задача 6\n",
    "    points = (generate_point3D(),  generate_point3D(),  generate_point3D(),  generate_point3D())\n",
    "    for i in range(0, 2):\n",
    "        while(points[0][i] == points[1][i] and points[0][i] == points[2][i] or\n",
    "           points[0][i] == points[1][i] and points[0][i] == points[3][i] or\n",
    "           points[3][i] == points[1][i] and points[1][i] == points[2][i]):\n",
    "             points = (generate_point3D(),  generate_point3D(),  generate_point3D(),  generate_point3D())\n",
    "    return points"
   ]
  },
  {
   "cell_type": "markdown",
   "metadata": {},
   "source": [
    "Генерация матрицы размена $n$ на $m$ с рангом $r$"
   ]
  },
  {
   "cell_type": "code",
   "execution_count": 89,
   "metadata": {},
   "outputs": [],
   "source": [
    "def generate_matrix(n, m, r):\n",
    "    size = min(n,m)\n",
    "    if (r<size):\n",
    "        matrix = generate_matrix(size, size, r)\n",
    "        if (n!=size):\n",
    "            add = n-size         \n",
    "    elif (size == r):\n",
    "        arr = np.eye(r)\n",
    "        for w in range (0, 3):\n",
    "            for i in range (0, r):\n",
    "                for j in range (0,r):\n",
    "                    c1 = generate_nonzero_number(-5,+5)\n",
    "                    c2 = generate_nonzero_number(-5,+5)\n",
    "                    if (i==j):\n",
    "                        while ((arr[i][j] *c1 + arr[j][j] *c2) == 0):\n",
    "                            c1 = generate_nonzero_number(-5,+5)\n",
    "                            c2 = generate_nonzero_number(-5,+5)\n",
    "                    arr[i][j] = int(arr[i][j]*c1 + arr[j][j]*c2)\n",
    "        return arr\n",
    "    else:\n",
    "        print(\"Слишком большой ранг\")\n",
    "        return None    "
   ]
  },
  {
   "cell_type": "code",
   "execution_count": 90,
   "metadata": {
    "scrolled": false
   },
   "outputs": [
    {
     "data": {
      "text/plain": [
       "array([[-70.,  -5.],\n",
       "       [707., -10.]])"
      ]
     },
     "execution_count": 90,
     "metadata": {},
     "output_type": "execute_result"
    }
   ],
   "source": [
    "generate_matrix(2, 3, 2)"
   ]
  },
  {
   "cell_type": "markdown",
   "metadata": {},
   "source": [
    "Генерируем набор коэффициентов для комплексного уравнения $(a+b\\cdot i)x^2 + (c+d\\cdot i)x + e + f\\cdot i = 0$"
   ]
  },
  {
   "cell_type": "code",
   "execution_count": 91,
   "metadata": {
    "id": "XAhoSaisG86q"
   },
   "outputs": [],
   "source": [
    "def generate_coeffs_irrational(): # задача 10\n",
    "    return [generate_nonzero_number(-100, 100), generate_nonzero_number(-100, 100),\n",
    "            generate_nonzero_number(-100, 100), generate_nonzero_number(-100, 100), \n",
    "            generate_nonzero_number(-100, 100), generate_nonzero_number(-100, 100)]"
   ]
  },
  {
   "cell_type": "code",
   "execution_count": 92,
   "metadata": {
    "id": "zdrl5HFDIoDD"
   },
   "outputs": [],
   "source": [
    "def generate_base():\n",
    "    e =  (np.matrix([generate_vector(3).flatten(),  generate_vector(3).flatten(), generate_vector(3).flatten()])).transpose()\n",
    "    print(e)\n",
    "    rank = np.linalg.matrix_rank(e)\n",
    "    while(rank < 3): \n",
    "        e = (generate_vector(3), generate_vector(3), generate_vector(3))\n",
    "        rank = np.linalg.matrix_rank(e)\n",
    "    return [np.array(e[:, 0]), np.array(e[:, 1]), np.array(e[:, 2])]"
   ]
  },
  {
   "cell_type": "markdown",
   "metadata": {},
   "source": [
    "Случайный выбор \"красивых\" уголов"
   ]
  },
  {
   "cell_type": "code",
   "execution_count": 185,
   "metadata": {
    "id": "o6RhYXV78QzT"
   },
   "outputs": [],
   "source": [
    "angles = [\"𝛑/3\", \"2*𝛑/3\", \"𝛑/4\", \"3*𝛑/4\", \"𝛑/6\", \"5*𝛑/6\"]\n",
    "angles_frac = [\"\\\\frac{\\\\pi}{3}\", \"\\\\frac{2\\\\pi}{3}\", \"\\\\frac{\\\\pi}{4}\", \n",
    "          \"\\\\frac{3\\\\pi}{4}\", \"\\\\frac{\\\\pi}{6}\", \"\\\\frac{5\\\\pi}{6}\"]\n",
    "def generate_angle():\n",
    "    return angles[np.random.randint(0, 6)]\n",
    "\n",
    "def generate_angle_frac():\n",
    "    return angles_frac[np.random.randint(0, 6)]"
   ]
  },
  {
   "cell_type": "markdown",
   "metadata": {},
   "source": [
    "Случайный выбор из двух возможных типов параболы"
   ]
  },
  {
   "cell_type": "code",
   "execution_count": 94,
   "metadata": {
    "id": "DIf41ggPJQrk"
   },
   "outputs": [],
   "source": [
    "parabola_types = [\"y^2 = 2px\", \"x^2 = 2py\"]\n",
    "def generate_parabola_type():\n",
    "    return parabola_types[np.random.randint(0, 2)]"
   ]
  },
  {
   "cell_type": "markdown",
   "metadata": {},
   "source": [
    "## Подготовка данных для индивидуальных заданий"
   ]
  },
  {
   "cell_type": "markdown",
   "metadata": {},
   "source": [
    "Данные для задачи 2 - это рандомные логические выражения и целочисленные значения, генерировать их целесообразнее вместе с текстом задания."
   ]
  },
  {
   "cell_type": "markdown",
   "metadata": {},
   "source": [
    "Данные для задачи 4: Матрица А и вектор b"
   ]
  },
  {
   "cell_type": "code",
   "execution_count": 96,
   "metadata": {
    "id": "icqBjmvtJtWI"
   },
   "outputs": [],
   "source": [
    "def gen_4():\n",
    "    res = generate_system()\n",
    "    return [res[0], res[1]] "
   ]
  },
  {
   "cell_type": "markdown",
   "metadata": {},
   "source": [
    "Данные для задачи 6: результат функции **generate_4_points3D**"
   ]
  },
  {
   "cell_type": "markdown",
   "metadata": {},
   "source": [
    "Данные для задачи 8: результат функции **generate_4_points2D**"
   ]
  },
  {
   "cell_type": "markdown",
   "metadata": {},
   "source": [
    "Данные для задачи 10: результат функции **generate_coeffs_irrational**"
   ]
  },
  {
   "cell_type": "markdown",
   "metadata": {},
   "source": [
    "Данные для задачи 12: матрица размера 3 на 3 и базисные вектора $e_1, e_2, e_3$"
   ]
  },
  {
   "cell_type": "code",
   "execution_count": 97,
   "metadata": {
    "id": "QFZfCwB9MG_r"
   },
   "outputs": [],
   "source": [
    "# задача 12\n",
    "def gen_12():\n",
    "    return [generate_matrix_r(3, 3)] + generate_base()"
   ]
  },
  {
   "cell_type": "markdown",
   "metadata": {},
   "source": [
    "Данные для задачи 14: центр эллипса, его вертикальная полуось $b$ и эксцентриситет $\\epsilon$, угол поворота $\\alpha$."
   ]
  },
  {
   "cell_type": "code",
   "execution_count": 182,
   "metadata": {
    "colab": {
     "base_uri": "https://localhost:8080/",
     "height": 36
    },
    "id": "cAJkPVMMJrZS",
    "outputId": "d7c5779a-a4b3-4ab3-a75b-f06a2bcdc1be"
   },
   "outputs": [],
   "source": [
    "def gen_14():\n",
    "    point = generate_point2D()\n",
    "    a = generate_nonzero_number(1, 10)\n",
    "    b = generate_number_except(1, 10, a)\n",
    "    \n",
    "    tmp = min(a,b)\n",
    "    a = max(a,b)\n",
    "    b = tmp\n",
    "    \n",
    "    c = (a**2-b**2)**0.5\n",
    "    epsilon = c/a\n",
    "    return [point, b, epsilon, generate_angle_frac()]\n",
    "# задача 14"
   ]
  },
  {
   "cell_type": "markdown",
   "metadata": {},
   "source": [
    "Данные для задачи 16: точка двумерного пространства, вид уравнения параболы, значение коэффициента p, случайный угол поворота"
   ]
  },
  {
   "cell_type": "code",
   "execution_count": 165,
   "metadata": {},
   "outputs": [],
   "source": [
    "def gen_16():\n",
    "    return [generate_point2D(), generate_parabola_type(), \n",
    "            generate_nonzero_number(-10, 10), generate_angle_frac()]"
   ]
  },
  {
   "cell_type": "markdown",
   "metadata": {},
   "source": [
    "Данные для задачи 18: соответствуют данных, генерируемым функцией **gen_4** для задачи 4."
   ]
  },
  {
   "cell_type": "markdown",
   "metadata": {},
   "source": [
    "## Генерация текста индивидуальных заданий"
   ]
  },
  {
   "cell_type": "markdown",
   "metadata": {},
   "source": [
    "### Вспомогательная функция"
   ]
  },
  {
   "cell_type": "markdown",
   "metadata": {},
   "source": [
    "Записать в маркдауне матрицу или вектор (с учётом дополнительных символов для записи в файл)"
   ]
  },
  {
   "cell_type": "code",
   "execution_count": 166,
   "metadata": {},
   "outputs": [],
   "source": [
    "def markdown_matrix(value, name=\"A\"):\n",
    "    align_start=\"\\\\begin{align*}\"+\"\\n\"\n",
    "    name_text = name+\" =\\n\"\n",
    "    matrix_start=\"\\\\left(\\\\begin{matrix}\\n\"\n",
    "    add = \"\"\n",
    "    for i in range (0, value.shape[0]):\n",
    "        for j in range (0, value.shape[1]):\n",
    "            if (j>0):\n",
    "                add+=\" & \"\n",
    "            add+= str(value[i][j])\n",
    "            if (j == value.shape[1]-1):\n",
    "                if (i != value.shape[0]-1):\n",
    "                    add+=\" \\\\\"\n",
    "                add+=\"\\n\"\n",
    "    matrix_end=\"\\\\end{matrix}\\\\right)\\n\"\n",
    "    align_end=\"\\\\end{align*}\\n\"\n",
    "    return align_start+name_text+matrix_start+add+matrix_end+align_end"
   ]
  },
  {
   "cell_type": "code",
   "execution_count": 167,
   "metadata": {},
   "outputs": [
    {
     "data": {
      "text/plain": [
       "'\\\\begin{align*}\\nA =\\n\\\\left(\\\\begin{matrix}\\n145 & -133 & -18 \\\\\\n127 & 144 & -39 \\\\\\n-129 & 88 & -94\\n\\\\end{matrix}\\\\right)\\n\\\\end{align*}\\n'"
      ]
     },
     "execution_count": 167,
     "metadata": {},
     "output_type": "execute_result"
    }
   ],
   "source": [
    "markdown_matrix(generate_matrix_r(3,3))"
   ]
  },
  {
   "cell_type": "markdown",
   "metadata": {},
   "source": [
    "Результат после записи в файл:"
   ]
  },
  {
   "cell_type": "markdown",
   "metadata": {},
   "source": [
    "\\begin{align*}A =\\left(\\begin{matrix}-37 & -62 & -110 \\\\-100 & -124 & -119 \\\\85 & -111 & -109\\end{matrix}\\right)\\end{align*}"
   ]
  },
  {
   "cell_type": "markdown",
   "metadata": {},
   "source": [
    "### Генерация текстов"
   ]
  },
  {
   "cell_type": "markdown",
   "metadata": {},
   "source": [
    "Генерация текста задания для лабораторной 2"
   ]
  },
  {
   "cell_type": "code",
   "execution_count": 193,
   "metadata": {},
   "outputs": [],
   "source": [
    "def generate_lab_2_indtask():\n",
    "    a = generate_nonzero_number(5,15)\n",
    "    b = generate_number_except(10, 35, a)\n",
    "    a, b = min(a,b), max(a,b)\n",
    "    \n",
    "    step_1 = \"1. Составьте матрицу $A$ размера 7 на 8, состоящую из \"\n",
    "    step_1+= str(a) + \" в \"\n",
    "    if (random_bool()):\n",
    "        step_1+=\"не\"\n",
    "\n",
    "    step_1+=\"четных строках \"\n",
    "    \n",
    "    if (random_bool()):\n",
    "        step_1+=\"не\"\n",
    "        \n",
    "    step_1+=\"четных столбцов, остальные элементы равны \"\n",
    "    step_1+= str(b) + \".\\n\"\n",
    "    \n",
    "    step_2 = \"2. \"\n",
    "    if (random_bool()):\n",
    "        step_2+=\"Удалите \"\n",
    "        if (random_bool()):\n",
    "            step_2+=\"строку \"\n",
    "            step_2+=str(np.random.randint(0, 8))\n",
    "        else:\n",
    "            step_2+=\"столбец \"\n",
    "            step_2+=str(np.random.randint(0, 9))\n",
    "    else:\n",
    "        step_2+=\"Добавьте \"\n",
    "        flag = random_bool()\n",
    "        if (flag):\n",
    "            step_2+=\"строку \"\n",
    "        else:\n",
    "            step_2+=\"столбец \"\n",
    "        if (random_bool()):\n",
    "            step_2+=\"нулей \"\n",
    "        else:\n",
    "            step_2+=\"единиц \"\n",
    "        if (random_bool()):\n",
    "            step_2+=\"до \"\n",
    "        else:\n",
    "            step_2+=\"после \"\n",
    "        if (flag):\n",
    "            step_2+=\"строки \"\n",
    "            step_2+=str(np.random.randint(0, 8))\n",
    "        else:\n",
    "            step_2+=\"столбца \"\n",
    "            step_2+=str(np.random.randint(0, 9))\n",
    "    step_2+=\".\\n\"\n",
    "    \n",
    "    p1 = str(np.random.randint(0, 8))\n",
    "    p2 = str(np.random.randint(0, 8))\n",
    "    step_3=\"3. Замените элементы $A[\" +p1+\", \"+p2+\"]$ и \"\n",
    "    step_3+=\"$A[\" +p1+\", \"+p2+\"]$ на $\"\n",
    "    \n",
    "    if (random_bool()):\n",
    "        if (random_bool()):\n",
    "            step_3+=\"2^b\"\n",
    "        else:\n",
    "            step_3+=\"b^2\"\n",
    "    else:\n",
    "        if (random_bool()):\n",
    "            step_3+= str(generate_nonzero_number(-5, 5)) +\"b\"\n",
    "        else:\n",
    "            step_3+=\"b\"\n",
    "            if (random_bool()):\n",
    "                step_3+= \"-\"\n",
    "            else:\n",
    "                step_3+= \"+\"\n",
    "            step_3+=str(np.random.randint(1, 10))\n",
    "    step_3+=\"$.\\n\"\n",
    "    \n",
    "    step_4 = \"4. Выполните подстановку, заменив $b$ на \" + str(np.random.randint(10, 30)) + \".\"\n",
    "    \n",
    "    text_4=[\"### Индивидуальное задание\\n\",\n",
    "            \"Выполнить заданные подстановки, результат каждой подстановки выводить в виде отдельной матрицы.\\n\"\n",
    "           + step_1 + step_2 + step_3 + step_4]\n",
    "    return text_4"
   ]
  },
  {
   "cell_type": "markdown",
   "metadata": {},
   "source": [
    "Генерация текста задания для лабораторной 4"
   ]
  },
  {
   "cell_type": "code",
   "execution_count": 169,
   "metadata": {},
   "outputs": [],
   "source": [
    "def generate_lab_4_indtask():\n",
    "    needs_for_lab_4 = gen_4()\n",
    "    matrix_a = markdown_matrix(needs_for_lab_4[0], \"$A$\")\n",
    "    vector_b = markdown_matrix(needs_for_lab_4[1], \"$b$\")\n",
    "    \n",
    "    add_text = matrix_a+vector_b\n",
    "    text_4=[\"### Индивидуальное задание\\n\",\n",
    "            \"Дана СЛАУ $AX = b$, где\\n\",\n",
    "            add_text,\n",
    "            \"Проверить совместность по теореме Кронекера-Капелли.\\n\",\n",
    "            \"Если СЛАУ совместна, проверить единственность решения.\\n\",\n",
    "           \"Для соответствующей однородной СЛАУ проверить существование нетривиального решения.\\n\",\n",
    "           \"В случае, если оно существует, найти размерность пространства решений и составить ФСР и общее решение однородной СЛАУ.\"]\n",
    "    return text_4"
   ]
  },
  {
   "cell_type": "markdown",
   "metadata": {},
   "source": [
    "Генерация текста задания для лабораторной 6"
   ]
  },
  {
   "cell_type": "code",
   "execution_count": 170,
   "metadata": {},
   "outputs": [],
   "source": [
    "def generate_lab_6_indtask():\n",
    "    needs_for_lab_6 = generate_4_points3D()\n",
    "    text_6=[\"### Индивидуальное задание\\n\",\n",
    "            \"Даны точки в пространстве:$A$ $\" \n",
    "            + str(needs_for_lab_6[0])\n",
    "            + \"$, $B$ $\"\n",
    "            + str(needs_for_lab_6[1])\n",
    "            + \"$, $C$ $\"\n",
    "            + str(needs_for_lab_6[2])\n",
    "            + \"$ и $M$ $\"\n",
    "            + str(needs_for_lab_6[3])\n",
    "            + \"$.\\n\",\n",
    "            \"Найти угол между прямой $AB$ и плоскостью $z = 0$, угол между $AC$ и $CM$, угол между плоскостями $ABC$ и $BCM$.\\n\",\n",
    "            \"Составить уравнение: \\n\",\n",
    "            \"\\n\",\n",
    "            \"a) плоскости, параллельной $ABC$ и проходящей через начало координат,\\n\",\n",
    "            \"\\n\",\n",
    "            \"b) плоскости, перпендикулярной $ABC$ и проходящей через $A$ и $M$,\\n\",\n",
    "            \"\\n\",\n",
    "            \"c) прямой, перпендикулярной $ABC$ и проходящей через $C$.\"]\n",
    "    return text_6"
   ]
  },
  {
   "cell_type": "markdown",
   "metadata": {},
   "source": [
    "Генерация текста задания для лабораторной 8"
   ]
  },
  {
   "cell_type": "code",
   "execution_count": 171,
   "metadata": {},
   "outputs": [],
   "source": [
    "def generate_lab_8_indtask():\n",
    "    needs_for_lab_8 = generate_4_points2D()\n",
    "    text_8=[\"### Индивидуальное задание\\n\",\n",
    "            \"Даны точки на плоскости:$L$ $\"\n",
    "            + str(needs_for_lab_8[0])\n",
    "            + \"$, $M$ $\"\n",
    "            + str(needs_for_lab_8[1])\n",
    "            + \"$, $N$ $\"\n",
    "            + str(needs_for_lab_8[2])\n",
    "            + \"$ и $P$ $\"\n",
    "            + str(needs_for_lab_8[3])\n",
    "            + \"$.\\n\",\n",
    "            \"Построить отрезок $LM$ и луч $MN$, составить уравнения серединного перпендикуляра  к $LM$ и перпендикуляра к $MN$, проходящего через точку $P$, найти точку пересечения перпендикуляров.\\n\",\n",
    "            \"Построить на графике отрезок, луч (в виде отрезка) и оба перпендикуляра, отметить и подписать концы отрезка и начало луча (точку M), а также точку пересечения перпендикуляров и основания перпендикуляров (точки пересечения перпендикуляров с отрезком и лучом соответственно).\\n\",\n",
    "            \"В легенду включить уравнения перпендикуляров и уравнения прямых, на которых лежат отрезок и луч.\"]\n",
    "    return text_8"
   ]
  },
  {
   "cell_type": "markdown",
   "metadata": {},
   "source": [
    "Генерация текста задания для лабораторной 10"
   ]
  },
  {
   "cell_type": "code",
   "execution_count": 172,
   "metadata": {},
   "outputs": [],
   "source": [
    "def generate_lab_10_indtask():\n",
    "    needs_for_lab_10 = generate_coeffs_irrational()\n",
    "    add_text =  \"Решить уравнение: $\"\n",
    "    add_text+= \"(\" + str(needs_for_lab_10[0]) \n",
    "    add_text+=  (\"+\" if (needs_for_lab_10[1]>0) else \"\") + str(needs_for_lab_10[1]) \n",
    "    add_text+= \"i)x^2+(\"\n",
    "    add_text+= str(needs_for_lab_10[2])\n",
    "    add_text+= (\"+\" if (needs_for_lab_10[3]>0) else \"\") + str(needs_for_lab_10[3])\n",
    "    add_text+= \"i)x\"\n",
    "    add_text+= (\"+\" if (needs_for_lab_10[4]>0) else \"\") + str(needs_for_lab_10[4])\n",
    "    add_text+= (\"+\" if (needs_for_lab_10[5]>0) else \"\") + str(needs_for_lab_10[5])\n",
    "    add_text+=\"i = 0$\\n\"\n",
    "    \n",
    "    text_10=[\"### Индивидуальное задание\\n\",\n",
    "             add_text,\n",
    "            \"Для получения корней использовать sympy.roots.\\n\",\n",
    "            \"Корни уравнения вывести на экран в алгебраической, тригонометрической и экспоненциальной форме.\"]\n",
    "    return text_10"
   ]
  },
  {
   "cell_type": "markdown",
   "metadata": {},
   "source": [
    "Генерация текста задания для лабораторной 12"
   ]
  },
  {
   "cell_type": "code",
   "execution_count": 173,
   "metadata": {},
   "outputs": [],
   "source": [
    "def generate_lab_12_indtask():\n",
    "    needs_for_lab_12 = gen_12()\n",
    "    matrix_a = markdown_matrix(needs_for_lab_12[0], \"A\")\n",
    "    vector_e1 = markdown_matrix(needs_for_lab_12[1], \"$e_1$\")\n",
    "    vector_e2 = markdown_matrix(needs_for_lab_12[2], \"$e_2$\")\n",
    "    vector_e3 = markdown_matrix(needs_for_lab_12[3], \"$e_3$\")\n",
    "    \n",
    "    add_text = matrix_a+vector_e1+vector_e2+vector_e3\n",
    "    \n",
    "    text_12=[\"### Индивидуальное задание\\n\",\n",
    "            \"Найти собственные числа и собственные векторы линейного оператора. Построить матрицу оператора в заданном базисе. Построить матрицу оператора в базисе из собственных векторов.\\n\",\n",
    "            add_text,\n",
    "             \"Вывести на экран матрицу оператора А, матрицу перехода к базису ($e_1$, $e_2$, $e_3$), матрицу оператора в базисе ($e_1$, $e_2$, $e_3$), матрицу перехода к базису из собственных векторов, матрицу оператора в базисе из собственных векторов.\"]\n",
    "    return text_12"
   ]
  },
  {
   "cell_type": "markdown",
   "metadata": {},
   "source": [
    "Генерация текста задания для лабораторной 14"
   ]
  },
  {
   "cell_type": "code",
   "execution_count": 183,
   "metadata": {},
   "outputs": [],
   "source": [
    "def generate_lab_14_indtask():\n",
    "    needs_for_lab_14 = gen_14()\n",
    "\n",
    "    add_text = \"Построить эллипс с заданными центром $\" \n",
    "    add_text += str(needs_for_lab_14[0]) + \"$, вертикальной полуосью $\" \n",
    "    add_text += str(needs_for_lab_14[1]) + \"$ и эксцентриситетом $\"\n",
    "    add_text += str(needs_for_lab_14[2]) + \"$.\\n\"\n",
    "    add_text += \"Изобразить на графике этот эллипс, а также эллипс, повернутый на угол $\\alpha = \" \n",
    "    add_text += needs_for_lab_14[3] + \"$ против часовой стрелки.\\n\"\n",
    "    \n",
    "    text_14=[\"### Индивидуальное задание\\n\",\n",
    "            add_text,\n",
    "            \"Вывести на экран центр и фокусы эллипса, длины полуосей, уравнение эллипса, вершины эллипса.\"]\n",
    "    return text_14"
   ]
  },
  {
   "cell_type": "markdown",
   "metadata": {},
   "source": [
    "Генерация текста задания для лабораторной 16"
   ]
  },
  {
   "cell_type": "code",
   "execution_count": 177,
   "metadata": {},
   "outputs": [],
   "source": [
    "def generate_lab_16_indtask():\n",
    "    needs_for_lab_16 = gen_16()\n",
    "    point = needs_for_lab_16[0]\n",
    "    parabola_type = needs_for_lab_16[1]\n",
    "    p = needs_for_lab_16[2]\n",
    "    alpha = needs_for_lab_16[3]\n",
    "    \n",
    "    add_text = \"Построить экземпляр класса Parabola - параболу $\" + parabola_type \n",
    "    add_text+= \"$ с заданным $p = \" + str(p)\n",
    "    add_text+=\"$, построить другую параболу путем поворота исходной параболы  на угол $\\alpha \" \n",
    "    add_text+= alpha + \"$ радиан и сдвигом в центр $\"+ str(point) + \"$.\\n\"\n",
    "    \n",
    "    text_16=[\"### Индивидуальное задание\\n\",\n",
    "            add_text,\n",
    "             \"Вывести на экран вершину, угол, фокус, ось симметрии и директрису обеих парабол.\\n\",\n",
    "            \"Использовать уравнения повернутой параболы, ее оси симметрии и директрисы для построения графиков в одной координатной плоскости. Парабола фиолетовая, ось симметрии зеленая, директриса черная, название графика Парабола, подписи осей $x$ и $y$.\"]\n",
    "    return text_16"
   ]
  },
  {
   "cell_type": "markdown",
   "metadata": {},
   "source": [
    "Генерация текста задания для лабораторной 18"
   ]
  },
  {
   "cell_type": "code",
   "execution_count": 178,
   "metadata": {},
   "outputs": [],
   "source": [
    "def generate_lab_18_indtask():\n",
    "    needs_for_lab_18 = gen_4()\n",
    "    matrix_a = markdown_matrix(needs_for_lab_18[0], \"$A$\")\n",
    "    vector_b = markdown_matrix(needs_for_lab_18[1], \"$b$\")\n",
    "    \n",
    "    add_text = matrix_a+vector_b\n",
    "    \n",
    "    text_18=[\"### Индивидуальное задание\\n\",\n",
    "            \"Решить с помощью  QR разложения матрицы $A$ систему линейных уравнений $AX = b$.\\n\",\n",
    "            add_text,\n",
    "            \"Проверить совместность СЛАУ.\"]\n",
    "    return text_18"
   ]
  },
  {
   "cell_type": "markdown",
   "metadata": {},
   "source": [
    "## Подготовка для вставки задания в файл .ipynb"
   ]
  },
  {
   "cell_type": "markdown",
   "metadata": {},
   "source": [
    "Ячейка для вставки в файл задания"
   ]
  },
  {
   "cell_type": "code",
   "execution_count": 179,
   "metadata": {},
   "outputs": [],
   "source": [
    "def cell_for_insert(text_arr=[], metadata_id=\"defaultId\"):\n",
    "    add_text_metadata=\"\\\"id\\\": \\\"\"+metadata_id+\"\\\",\"\n",
    "    add_text_sourse=\"\\\"source\\\": [\"\n",
    "    add_text = \"\"\n",
    "    if (len(text_arr)>0):\n",
    "        add_text=\"\\\"\"+text_arr[0]+\"\\\"\"\n",
    "        for i in range(1, len(text_arr)):\n",
    "            add_text += \",\"+\"\\\"\"+text_arr[i]+\"\\\"\"\n",
    "    add_text_end=\"]\"\n",
    "    return add_text_metadata + add_text_sourse + add_text + add_text_end"
   ]
  },
  {
   "cell_type": "markdown",
   "metadata": {},
   "source": [
    "Ячейка маркдауна для вставки в файл задания"
   ]
  },
  {
   "cell_type": "code",
   "execution_count": 135,
   "metadata": {},
   "outputs": [],
   "source": [
    "def cell_markdown(text_arr=[], metadata_id=\"defaultMarkdownCell\", isFirst=False):\n",
    "    add_text_begin=\"{\\\"cell_type\\\": \\\"markdown\\\",\"\n",
    "    if (not isFirst):\n",
    "        add_text_begin=\",\"+add_text_begin\n",
    "    add_text = cell_for_insert(text_arr, metadata_id)\n",
    "    add_text_end=\"}\"\n",
    "    return add_text_begin + add_text + add_text_end"
   ]
  },
  {
   "cell_type": "markdown",
   "metadata": {},
   "source": [
    "Ячейка кода для вставки в файл задания"
   ]
  },
  {
   "cell_type": "code",
   "execution_count": 136,
   "metadata": {},
   "outputs": [],
   "source": [
    "def cell_code(text_arr=[], metadata_id=\"defaultCodeCell\"):\n",
    "    add_text_begin=\",{\\\"cell_type\\\": \\\"code\\\",\"\n",
    "    if (not isFirst):\n",
    "        add_text_begin=\",\"+add_text_begin\n",
    "    add_text = cell_for_insert(text_arr, metadata_id)\n",
    "    add_text_chara = \",\\\"execution_count\\\": null, \\\"outputs\\\": []}\"\n",
    "    return add_text_begin + add_text + add_text_chara"
   ]
  },
  {
   "cell_type": "markdown",
   "metadata": {},
   "source": [
    "### Проверки корректности ячеек"
   ]
  },
  {
   "cell_type": "code",
   "execution_count": 195,
   "metadata": {
    "scrolled": false
   },
   "outputs": [
    {
     "data": {
      "text/plain": [
       "',{\"cell_type\": \"markdown\",\"id\": \"defaultMarkdownCell\",\"source\": [\"### Индивидуальное задание\\n\",\"Выполнить заданные подстановки, результат каждой подстановки выводить в виде отдельной матрицы.\\n1. Составьте матрицу $A$ размера 7 на 8, состоящую из 12 в четных строках нечетных столбцов, остальные элементы равны 17.\\n2. Добавьте столбец единиц до столбца 7.\\n3. Замените элементы $A[3, 6]$ и $A[3, 6]$ на $b^2$.\\n4. Выполните подстановку, заменив $b$ на 14.\"]}'"
      ]
     },
     "execution_count": 195,
     "metadata": {},
     "output_type": "execute_result"
    }
   ],
   "source": [
    "cell_markdown(generate_lab_2_indtask())"
   ]
  },
  {
   "cell_type": "code",
   "execution_count": 115,
   "metadata": {
    "scrolled": false
   },
   "outputs": [
    {
     "data": {
      "text/plain": [
       "',{\"cell_type\": \"markdown\",\"id\": \"defaultMarkdownCell\",\"source\": [\"### Индивидуальное задание\\n\",\"Даны точки на плоскости:$L$ $(4, 7)$, $M$ $(0, 2)$, $N$ $(-3, -6)$ и $P$ $(-7, -10)$.\\n\",\"Построить отрезок $LM$ и луч $MN$, составить уравнения серединного перпендикуляра  к $LM$ и перпендикуляра к $MN$, проходящего через точку $P$, найти точку пересечения перпендикуляров.\\n\",\"Построить на графике отрезок, луч (в виде отрезка) и оба перпендикуляра, отметить и подписать концы отрезка и начало луча (точку M), а также точку пересечения перпендикуляров и основания перпендикуляров (точки пересечения перпендикуляров с отрезком и лучом соответственно).\\n\",\"В легенду включить уравнения перпендикуляров и уравнения прямых, на которых лежат отрезок и луч.\"]}'"
      ]
     },
     "execution_count": 115,
     "metadata": {},
     "output_type": "execute_result"
    }
   ],
   "source": [
    "cell_markdown(generate_lab_8_indtask())"
   ]
  },
  {
   "cell_type": "code",
   "execution_count": 116,
   "metadata": {
    "scrolled": true
   },
   "outputs": [
    {
     "data": {
      "text/plain": [
       "',{\"cell_type\": \"markdown\",\"id\": \"defaultMarkdownCell\",\"source\": [\"### Индивидуальное задание\\n\",\"Решить уравнение: $(44+41i)x^2+(42+74i)x+28-51i = 0$\\n\",\"Для получения корней использовать sympy.roots.\\n\",\"Корни уравнения вывести на экран в алгебраической, тригонометрической и экспоненциальной форме.\"]}'"
      ]
     },
     "execution_count": 116,
     "metadata": {},
     "output_type": "execute_result"
    }
   ],
   "source": [
    "cell_markdown(generate_lab_10_indtask())"
   ]
  },
  {
   "cell_type": "code",
   "execution_count": 117,
   "metadata": {},
   "outputs": [
    {
     "name": "stdout",
     "output_type": "stream",
     "text": [
      "[[ 116  106  122]\n",
      " [ -52   93 -120]\n",
      " [ 121  -39  -29]]\n"
     ]
    },
    {
     "data": {
      "text/plain": [
       "',{\"cell_type\": \"markdown\",\"id\": \"defaultMarkdownCell\",\"source\": [\"### Индивидуальное задание\\n\",\"Найти собственные числа и собственные векторы линейного оператора. Построить матрицу оператора в заданном базисе. Построить матрицу оператора в базисе из собственных векторов.\\n\",\"\\\\begin{align*}\\nA =\\n\\\\left(\\\\begin{matrix}\\n-11 & -120 & -96 \\\\\\n102 & -75 & -70 \\\\\\n-78 & -93 & 60\\n\\\\end{matrix}\\\\right)\\n\\\\end{align*}\\n\\\\begin{align*}\\n$e_1$ =\\n\\\\left(\\\\begin{matrix}\\n116 \\\\\\n-52 \\\\\\n121\\n\\\\end{matrix}\\\\right)\\n\\\\end{align*}\\n\\\\begin{align*}\\n$e_2$ =\\n\\\\left(\\\\begin{matrix}\\n106 \\\\\\n93 \\\\\\n-39\\n\\\\end{matrix}\\\\right)\\n\\\\end{align*}\\n\\\\begin{align*}\\n$e_3$ =\\n\\\\left(\\\\begin{matrix}\\n122 \\\\\\n-120 \\\\\\n-29\\n\\\\end{matrix}\\\\right)\\n\\\\end{align*}\\n\",\"Вывести на экран матрицу оператора А, матрицу перехода к базису ($e_1$, $e_2$, $e_3$), матрицу оператора в базисе ($e_1$, $e_2$, $e_3$), матрицу перехода к базису из собственных векторов, матрицу оператора в базисе из собственных векторов.\"]}'"
      ]
     },
     "execution_count": 117,
     "metadata": {},
     "output_type": "execute_result"
    }
   ],
   "source": [
    "cell_markdown(generate_lab_12_indtask())"
   ]
  },
  {
   "cell_type": "code",
   "execution_count": 118,
   "metadata": {
    "scrolled": true
   },
   "outputs": [
    {
     "data": {
      "text/plain": [
       "',{\"cell_type\": \"markdown\",\"id\": \"myIdIsClearAssHell\",\"source\": [\"sadd\\n\",\"meeeh\"]}'"
      ]
     },
     "execution_count": 118,
     "metadata": {},
     "output_type": "execute_result"
    }
   ],
   "source": [
    "cell_markdown([\"sadd\\n\", \"meeeh\"], \"myIdIsClearAssHell\")"
   ]
  },
  {
   "cell_type": "code",
   "execution_count": 119,
   "metadata": {},
   "outputs": [
    {
     "data": {
      "text/plain": [
       "',{\"cell_type\": \"markdown\",\"id\": \"defaultMarkdownCell\",\"source\": [\"sadd\\n\",\"meeeh\"]}'"
      ]
     },
     "execution_count": 119,
     "metadata": {},
     "output_type": "execute_result"
    }
   ],
   "source": [
    "cell_markdown([\"sadd\\n\", \"meeeh\"])"
   ]
  },
  {
   "cell_type": "code",
   "execution_count": 120,
   "metadata": {
    "scrolled": true
   },
   "outputs": [
    {
     "data": {
      "text/plain": [
       "',{\"cell_type\": \"markdown\",\"id\": \"defaultMarkdownCell\",\"source\": [\"sadd\\n\"]}'"
      ]
     },
     "execution_count": 120,
     "metadata": {},
     "output_type": "execute_result"
    }
   ],
   "source": [
    "cell_markdown([\"sadd\\n\"])"
   ]
  },
  {
   "cell_type": "code",
   "execution_count": 121,
   "metadata": {},
   "outputs": [
    {
     "data": {
      "text/plain": [
       "',{\"cell_type\": \"markdown\",\"id\": \"defaultMarkdownCell\",\"source\": []}'"
      ]
     },
     "execution_count": 121,
     "metadata": {},
     "output_type": "execute_result"
    }
   ],
   "source": [
    "cell_markdown([])"
   ]
  },
  {
   "cell_type": "code",
   "execution_count": 122,
   "metadata": {},
   "outputs": [
    {
     "data": {
      "text/plain": [
       "'{\"cell_type\": \"markdown\",\"id\": \"defaultMarkdownCell\",\"source\": []}'"
      ]
     },
     "execution_count": 122,
     "metadata": {},
     "output_type": "execute_result"
    }
   ],
   "source": [
    "cell_markdown(isFirst=True)"
   ]
  },
  {
   "cell_type": "code",
   "execution_count": 123,
   "metadata": {
    "scrolled": false
   },
   "outputs": [
    {
     "data": {
      "text/plain": [
       "',{\"cell_type\": \"markdown\",\"id\": \"defaultMarkdownCell\",\"source\": []}'"
      ]
     },
     "execution_count": 123,
     "metadata": {},
     "output_type": "execute_result"
    }
   ],
   "source": [
    "cell_markdown()"
   ]
  },
  {
   "cell_type": "markdown",
   "metadata": {},
   "source": [
    "## Генерация файла индивидуализированной лабораторной работы"
   ]
  },
  {
   "cell_type": "markdown",
   "metadata": {},
   "source": [
    "Функция генерации любой из чётных лабораторных работ данного проекта"
   ]
  },
  {
   "cell_type": "code",
   "execution_count": 124,
   "metadata": {},
   "outputs": [],
   "source": [
    "def generate_even(n):\n",
    "    add_markdown=None\n",
    "    if (n==2):\n",
    "        add_markdown=generate_lab_2_indtask\n",
    "    elif (n==4):\n",
    "        add_markdown=generate_lab_4_indtask\n",
    "    elif (n==6):\n",
    "        add_markdown=generate_lab_6_indtask\n",
    "    elif (n==8):\n",
    "        add_markdown=generate_lab_8_indtask\n",
    "    elif (n==10):\n",
    "        add_markdown=generate_lab_10_indtask\n",
    "    elif (n==12):\n",
    "        add_markdown=generate_lab_12_indtask\n",
    "    elif (n==14):\n",
    "        add_markdown=generate_lab_14_indtask\n",
    "    elif (n==16):\n",
    "        add_markdown=generate_lab_16_indtask\n",
    "    elif (n==18):\n",
    "        add_markdown=generate_lab_18_indtask\n",
    "    else:\n",
    "        return None\n",
    "    add = add_markdown+cell_code(metadataId=\"lab\"+n+\"indCodeCell\")\n",
    "    +\",\\\"nbformat\\\": 4,\\\"nbformat_minor\\\": 1]}\"\n",
    "    file_name= \"Alg_\"+str(n)+\"_edit.ipynb\"\n",
    "    f_name=\"tasks_\"+str(n)+\".ipynb\"\n",
    "    file = open(file_name, 'r')\n",
    "    f = open(f_name, 'a')\n",
    "    f.write(file.read())\n",
    "    file.close()\n",
    "    f.write(add_text)\n",
    "    f.close()\n",
    "\n",
    "    return f "
   ]
  }
 ],
 "metadata": {
  "colab": {
   "provenance": []
  },
  "kernelspec": {
   "display_name": "Python 3",
   "language": "python",
   "name": "python3"
  },
  "language_info": {
   "codemirror_mode": {
    "name": "ipython",
    "version": 3
   },
   "file_extension": ".py",
   "mimetype": "text/x-python",
   "name": "python",
   "nbconvert_exporter": "python",
   "pygments_lexer": "ipython3",
   "version": "3.8.3"
  }
 },
 "nbformat": 4,
 "nbformat_minor": 1
}
