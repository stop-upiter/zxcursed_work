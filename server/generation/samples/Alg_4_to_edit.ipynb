{
 "cells": [
  {
   "cell_type": "markdown",
   "metadata": {
    "id": "KqMzidc80GGB"
   },
   "source": [
    "# Занятие 4\n",
    "# Алгебра\n",
    "## Решение систем линейных алгебраических уравнений (СЛАУ)"
   ]
  },
  {
   "cell_type": "markdown",
   "metadata": {
    "id": "675Fb5ND0GGK"
   },
   "source": [
    "https://docs.sympy.org/latest/modules/solvers/solveset.html#sympy.solvers.solveset.linsolve"
   ]
  },
  {
   "cell_type": "code",
   "execution_count": null,
   "metadata": {
    "id": "TNk5d0Si0GGK"
   },
   "outputs": [],
   "source": [
    "import sympy\n",
    "from sympy import linsolve, Matrix, S, Symbol, symbols, Eq, linear_eq_to_matrix, simplify"
   ]
  },
  {
   "cell_type": "markdown",
   "metadata": {
    "id": "dMGJ1uQC0GGM"
   },
   "source": [
    "### Задание 1.\n",
    "Решить СЛАУ, представив их тремя различными способами (расширенная матрица, список уравнений, матричный вид)\n",
    "$$\n",
    "a)\\ \\left\\{\n",
    "\\begin{matrix}\n",
    "-x+5y-3z=8\\\\\n",
    "4x-y+5z=-1\\\\\n",
    "3x+4y+5z=10\n",
    "\\end{matrix}\n",
    "\\right., \\quad \n",
    "b)\\ \\left\\{\n",
    "\\begin{matrix}\n",
    "-x+5y-3z=8\\\\\n",
    "4x-y+5z=-1\\\\\n",
    "3x+4y+2z=7\n",
    "\\end{matrix}\n",
    "\\right., \\quad \n",
    "c)\\ \\left\\{\n",
    "\\begin{matrix}\n",
    "-x+5y-3z=8\\\\\n",
    "4x-y+5z=-1\\\\\n",
    "3x+4y+2z=5\n",
    "\\end{matrix}\n",
    "\\right.\n",
    "$$"
   ]
  },
  {
   "cell_type": "code",
   "execution_count": null,
   "metadata": {
    "id": "mGOuiK5h0GGN"
   },
   "outputs": [],
   "source": []
  },
  {
   "cell_type": "markdown",
   "metadata": {
    "id": "sJLNktgn0GGO"
   },
   "source": [
    "### Задание 2.\n",
    "\n",
    "Решить СЛАУ с параметром $a$, представив их списком уравнений, а затем приведя к матричному виду с помощью linear_eq_to_matrix\n",
    "$$\n",
    "a)\\ \\left\\{\n",
    "\\begin{matrix}\n",
    "ax+5y-3z=8\\\\\n",
    "4x-y+5z=-1\\\\\n",
    "3x+4y+5z=10\n",
    "\\end{matrix}\n",
    "\\right., \\quad \n",
    "b)\\ \\left\\{\n",
    "\\begin{matrix}\n",
    "(a-1)x+5y-3z=8\\\\\n",
    "(4+a)x-y+5z=-1\\\\\n",
    "(3+2a)x+4y+2z=7\n",
    "\\end{matrix}\n",
    "\\right., \\quad \n",
    "c) \\left\\{\n",
    "\\begin{matrix}\n",
    "-x+5y-3z=8a\\\\\n",
    "4x-ay+5z=-a\\\\\n",
    "3x+4y+2z=5a\n",
    "\\end{matrix}\n",
    "\\right.\n",
    "$$\n",
    "Решить СЛАУ а) при $a=-82/25$, b) при $a=-19/6$, $-3.17$ и $-3.167$, c) при $a=1$.\n",
    "\n",
    "Проанализировать результаты. Для каждого случая (кроме случая несовместной СЛАУ) провести проверку подстановкой.\n",
    "\n",
    "При подстановке дробей пользоваться конструкцией вида $S(num)/den$, например,\n",
    "$S(2)/3$"
   ]
  },
  {
   "cell_type": "code",
   "execution_count": null,
   "metadata": {
    "id": "aSNNtMhc0GGP"
   },
   "outputs": [],
   "source": []
  },
  {
   "cell_type": "markdown",
   "metadata": {
    "id": "m8SPA6yz0GGP"
   },
   "source": [
    "### Задание 3\n",
    "В расширенной матрице СЛАУ из Задания 1 а) \n",
    "\n",
    "1) выделить матрицу левой части\n",
    "\n",
    "2) выделить столбец правой части\n",
    "\n",
    "3) транспонировать матрицу, полученную в 1)\n",
    "\n",
    "4) получить расширенную матрицу из матрицы 3) и столбца 2)\n",
    "\n",
    "5) создать на основе лямбда-функции матрицу $3\\times 4$ из расположенных в шахматном порядке чисел 1 и $-1$."
   ]
  },
  {
   "cell_type": "code",
   "execution_count": null,
   "metadata": {
    "id": "kLp-wnly0GGQ"
   },
   "outputs": [],
   "source": []
  }
