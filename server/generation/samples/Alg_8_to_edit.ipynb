{
 "cells": [
  {
   "cell_type": "code",
   "execution_count": null,
   "metadata": {
    "id": "xakB6v5rfgFZ"
   },
   "outputs": [],
   "source": [
    "import sympy\n",
    "from sympy import  Point, Line, Plane, Point3D, Segment, Ray, S, latex\n",
    "import matplotlib.pyplot as plt"
   ]
  },
  {
   "cell_type": "markdown",
   "metadata": {
    "id": "NILK48I4fgFd"
   },
   "source": [
    "# Практическое занятие 8\n",
    "# Алгебра\n",
    "https://docs.sympy.org/latest/search.html?q=geometry\n",
    "\n",
    "## Проекции, сегменты, лучи в модуле Geometry\n",
    "### Задание 1.\n",
    "Даны точки: $A(3, -2, 3)$,  $B(-2, 3, 1)$, \n",
    "$C(1, -8, 6)$, \n",
    "$D(1, 2, 4)$, \n",
    "$F(-7, 8, -1)$.\n",
    "\n",
    "Составить отрезки $AB$ и $AC$ и лучи $CD$ и $BF$.\n",
    "\n",
    "Найти: \n",
    "\n",
    "а) угол между лучами $CD$ и $BF$\n",
    "\n",
    "б) направления луча $CD$ (xdirection, ydirection, zdirection)\n",
    "\n",
    "в) длину отрезка $AB$\n",
    "\n",
    "г) середину отрезка $AB$"
   ]
  },
  {
   "cell_type": "code",
   "execution_count": null,
   "metadata": {
    "id": "plyL1jWrfgFe"
   },
   "outputs": [],
   "source": []
  },
  {
   "cell_type": "code",
   "execution_count": null,
   "metadata": {
    "id": "rssdzsGWzZON"
   },
   "outputs": [],
   "source": []
  },
  {
   "cell_type": "markdown",
   "metadata": {
    "id": "XSbnLkTVfgFe"
   },
   "source": [
    "### Задание 2.\n",
    "Построить прямую $CD$ и проекцию точки $F$ и отрезка $AB$  на эту прямую."
   ]
  },
  {
   "cell_type": "code",
   "execution_count": null,
   "metadata": {
    "id": "tYSNLnZYfgFf"
   },
   "outputs": [],
   "source": []
  },
  {
   "cell_type": "markdown",
   "metadata": {
    "id": "h5FAbVSrfgFf"
   },
   "source": [
    "### Задание 3.\n",
    "Построить серединный перпендикуляр отрезка $AC$, проходящий через точку $(8, -7, 9/2)$.\n",
    "\n",
    "Указание: должен получиться сегмент, использовать S(9)/2."
   ]
  },
  {
   "cell_type": "code",
   "execution_count": null,
   "metadata": {
    "id": "jKul5ebxfgFf"
   },
   "outputs": [],
   "source": []
  },
  {
   "cell_type": "markdown",
   "metadata": {
    "id": "fKoPA-TifgFg"
   },
   "source": [
    "### Задание 4\n",
    "Даны точки: $A(3, -2)$, $B(-2, 3)$, $C(1, -8)$.\n",
    "\n",
    "Построить на общем графике отрезки $AB$ и $AC$, серединный перпендикуляр отрезка  $AC$.\n",
    "\n",
    "Точки $A$, $B$ и $C$ отметить и подписать именами.\n",
    "\n",
    "Для одинакового масштаба по осям использовать \n",
    "ax.set_aspect('equal')"
   ]
  },
  {
   "cell_type": "code",
   "execution_count": null,
   "metadata": {
    "id": "wnoWfQI1fgFg"
   },
   "outputs": [],
   "source": []
  }
