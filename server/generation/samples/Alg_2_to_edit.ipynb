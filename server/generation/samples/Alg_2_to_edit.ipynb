{
 "cells": [
  {
   "cell_type": "markdown",
   "metadata": {
    "id": "f1iqlJIMls5v"
   },
   "source": [
    "# Практическое занятие 2\n",
    "# Алгебра"
   ]
  },
  {
   "cell_type": "markdown",
   "metadata": {
    "id": "Qb3mWI63ls5-"
   },
   "source": [
    "## Матрицы. Подстановки. Формулы Крамера для решения СЛАУ.\n",
    "https://docs.sympy.org/latest/tutorial/matrices.html"
   ]
  },
  {
   "cell_type": "code",
   "execution_count": null,
   "metadata": {
    "id": "sYlA99tCls6B"
   },
   "outputs": [],
   "source": [
    "#https://www.sympy.org/en/index.html\n",
    "# sympy - модуль для символьных преобразований\n",
    "from sympy import *"
   ]
  },
  {
   "cell_type": "markdown",
   "metadata": {
    "id": "eOmHtxTtls6E"
   },
   "source": [
    "### Задание 1\n",
    "Решить по формулам Крамера СЛАУ \n",
    "\\begin{align*}\n",
    "\\left\\{\\begin{matrix} 2 x_{1} +  x_{3}  = -8\n",
    "\\\\- 4 x_{1} + 5 x_{2}  = 20\n",
    "\\\\- 6 x_{2} + x_{3}  = 2\n",
    "\\end{matrix}\\right.\n",
    " \\end{align*}\n",
    "Проверить правильность найденного решения подстановкой (в математическом смысле! subs не нужно использовать). "
   ]
  },
  {
   "cell_type": "code",
   "execution_count": null,
   "metadata": {
    "id": "eGrRLqqels6G"
   },
   "outputs": [],
   "source": []
  },
  {
   "cell_type": "markdown",
   "metadata": {
    "id": "Fhfe9HUSls6G"
   },
   "source": [
    "### Задание 2\n",
    "Решить по формулам Крамера СЛАУ с параметром\n",
    "\\begin{align*}\n",
    "\\left\\{\\begin{matrix} a x_{1} + 2 x_{2}  = -7\n",
    "\\\\- 4 x_{1} + 5 x_{2} + 3 x_{3} = 9\n",
    "\\\\ 3 x_{1} + x_{3}  = 2\n",
    "\\end{matrix}\\right.\n",
    " \\end{align*}\n",
    "Проверить правильность найденного решения подстановкой.\n",
    "\n",
    "Составить матрицу $S$, столбцы которой являются решениями данной СЛАУ при $a = -1, 0, 3$.\n",
    "\n",
    "#### Указание. \n",
    "Оформить решение по формулам Крамера в виде функции.\n",
    "\n",
    "Параметр $a$ описать как символ.\n",
    "\n",
    "Использовать подстановки subs для построения матриц данной СЛАУ при $a = -1, 0, 3$ на основе матрицы с параметром.\n",
    "\n",
    "Воспользоваться simplify для того, чтобы упростить выражение при проверке."
   ]
  },
  {
   "cell_type": "code",
   "execution_count": null,
   "metadata": {
    "id": "If8PcF7Pls6H"
   },
   "outputs": [],
   "source": []
  },
  {
   "cell_type": "markdown",
   "metadata": {
    "id": "1j4oEvAnls6I"
   },
   "source": [
    "### Задание 3.\n",
    "Решить по формулам Крамера СЛАУ с параметрами\n",
    "\\begin{align*}\n",
    "\\left\\{\\begin{matrix} x_{1} + a_{12} x_{2}  = b_1\n",
    "\\\\ x_{1} + a_{22} x_{2}  = b_2\n",
    "\\end{matrix}\\right.\n",
    "\\end{align*}\n",
    "Проверить правильность найденного решения подстановкой.\n",
    "\n",
    "Найти такие наборы параметров, для которых полученное решение неприменимо (подсказка - из-за деления на ноль).\n",
    "\n",
    "Показать, что для этих наборов определитель матрицы левой части равен нулю, использовать подстановки subs."
   ]
  },
  {
   "cell_type": "code",
   "execution_count": null,
   "metadata": {
    "id": "RKG7l1ZWls6J"
   },
   "outputs": [],
   "source": []
  },
  {
   "cell_type": "markdown",
   "metadata": {
    "id": "nTha2fKels6K"
   },
   "source": [
    "### Задание 4.\n",
    "Дана матрица \n",
    "\\begin{align*}\n",
    "M =\n",
    "\\left(\\begin{matrix} \n",
    "p & 1 & 0 \\\\\n",
    "1 & q & 1 \\\\\n",
    "0 & 1 & r\n",
    "\\end{matrix}\\right)\n",
    "\\end{align*}\n",
    "Вычислить определитель этой матрицы.\n",
    "Найти целочисленные наборы параметров $p$, $q$, $r$, для которых определитель $M$ равен нулю. Рассматривать целые числа от 0 до 12 (НЕ включительно). Использовать подстановки subs в заранее вычисленный определитель.\n",
    "\n",
    "Из найденных наборов как столбцов составить матрицу."
   ]
  },
  {
   "cell_type": "code",
   "execution_count": null,
   "metadata": {
    "id": "Ikt1crn5ls6L"
   },
   "outputs": [],
   "source": []
  }