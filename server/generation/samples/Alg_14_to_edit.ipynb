{
 "cells": [
  {
   "cell_type": "code",
   "execution_count": null,
   "metadata": {
    "id": "CtKxpPSVQCVS"
   },
   "outputs": [],
   "source": [
    "import sympy\n",
    "from sympy import Ellipse, Point, Line, S, Eq, latex, plot_implicit, Matrix, symbols, simplify, expand, collect, solve\n",
    "from sympy import pi as Pi\n",
    "from sympy import cos as Cos\n",
    "from sympy import sin as Sin\n",
    "import matplotlib.pyplot as plt\n",
    "from IPython.display import Math, Latex"
   ]
  },
  {
   "cell_type": "markdown",
   "metadata": {
    "id": "9Ulb2skGQCVV"
   },
   "source": [
    "# Практическое занятие 13\n",
    "# Компьютерный практикум по алгебре на Python\n",
    "### Задание 1.\n",
    "Построить эллипс с центром в точке А(1, 2), полуосями 3 и 2. Вычислить и вывести на экран эксцентриситет, площадь и длину дуги полученного эллипса, центр, полуоси, periapsis, apoapsis, межфокусное расстояние и фокусы."
   ]
  },
  {
   "cell_type": "code",
   "execution_count": null,
   "metadata": {
    "id": "U1lXsJUqQCVY"
   },
   "outputs": [],
   "source": []
  },
  {
   "cell_type": "markdown",
   "metadata": {
    "id": "T39kZ776QCVZ"
   },
   "source": [
    "### Задание 2.\n",
    "Вывести на экран уравнение эллипса из задания 1, повернутого на 30 градусов против часовой стрелки относительно его центра,  переменные u и v.\n",
    "\n",
    "Изобразить на графике эллипс и повернутый эллипс."
   ]
  },
  {
   "cell_type": "code",
   "execution_count": null,
   "metadata": {
    "id": "unFn6iauQCVb"
   },
   "outputs": [],
   "source": []
  },
  {
   "cell_type": "markdown",
   "metadata": {
    "id": "OU7m3lGPQCVc"
   },
   "source": [
    "### Задание 3.\n",
    "Найти вершины эллипса из Задания 1.\n",
    "\n",
    "Указание: вершины эллипса искать как решение системы уравнений, составленной из уравнения эллипса и уравнения прямой, проходящей через форкусы (воспользоваться Line и методом equation()); вторую пару вершин получить как решение системы из уравнения эллипса и прямой, проходящей через центр эллипса перпендикулярно прямой, проходящей через фокусы. "
   ]
  },
  {
   "cell_type": "code",
   "execution_count": null,
   "metadata": {
    "id": "7hznVM8BQCVd"
   },
   "outputs": [],
   "source": []
  }
