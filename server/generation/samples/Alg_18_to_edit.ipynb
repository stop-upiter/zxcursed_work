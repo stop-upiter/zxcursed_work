{
 "cells": [
  {
   "cell_type": "code",
   "execution_count": null,
   "metadata": {
    "id": "vpXnL4VcfUHW"
   },
   "outputs": [],
   "source": [
    "import sympy\n",
    "from sympy import Matrix, S, Symbol, symbols, I, zeros, eye, simplify, expand, expand_complex, latex\n",
    "from IPython.display import Latex"
   ]
  },
  {
   "cell_type": "markdown",
   "metadata": {
    "id": "CqEy_A0JfUHb"
   },
   "source": [
    "# Занятие 18\n",
    "# Алгебра\n",
    "## Матричные разложения: Холецкого, LDL, LU, QR. Жорданова форма."
   ]
  },
  {
   "cell_type": "markdown",
   "metadata": {
    "id": "zq3DD4QLfUHc"
   },
   "source": [
    "### Задание 1.\n",
    "Построить разложение Холецкого матриц\n",
    "$$\n",
    "M1=\\left(\n",
    "\\begin{matrix}\n",
    "1&-3&0\\\\\n",
    "-3&-2&10\\\\\n",
    "0&10&7\n",
    "\\end{matrix}\n",
    "\\right)\n",
    "\\quad\n",
    "M2=\\left(\n",
    "\\begin{matrix}\n",
    "18&1 - 2I& -2\\\\\n",
    "1 + 2I&4&-3I\\\\\n",
    "-2&3I&5\n",
    "\\end{matrix}\n",
    "\\right)\n",
    "$$\n",
    "Проверить положительную определенность эрмитовой матрицы."
   ]
  },
  {
   "cell_type": "code",
   "execution_count": null,
   "metadata": {
    "id": "7B3-Bl5TfUHd"
   },
   "outputs": [],
   "source": []
  },
  {
   "cell_type": "markdown",
   "metadata": {
    "id": "LfI3c3BzfUHd"
   },
   "source": [
    "### Задание 2.\n",
    "Построить  LDL разложение для матриц Задания 1. Проверку положительной определенности для эрмитовой матрицы НЕ делать."
   ]
  },
  {
   "cell_type": "code",
   "execution_count": null,
   "metadata": {
    "id": "fwH4xfbYfUHd"
   },
   "outputs": [],
   "source": []
  },
  {
   "cell_type": "markdown",
   "metadata": {
    "id": "jlQeDudhfUHe"
   },
   "source": [
    "### Задание  3.\n",
    "Построить  LU разложение для матрицы \n",
    "$$\n",
    "V=\\left(\n",
    "\\begin{matrix}\n",
    "5&-2 - I&3 - 4I&1 + 4I\\\\\n",
    "1 - I&-2&5 - I&2 - I\\\\\n",
    "5&6 + I&0&5 \n",
    "\\end{matrix}\n",
    "\\right)\n",
    "$$"
   ]
  },
  {
   "cell_type": "code",
   "execution_count": null,
   "metadata": {
    "id": "pT0JtC4KfUHe"
   },
   "outputs": [],
   "source": []
  },
  {
   "cell_type": "markdown",
   "metadata": {
    "id": "iIgktlgWfUHe"
   },
   "source": [
    "### Задание  4.\n",
    "Построить  QR разложение для матрицы\n",
    "$$\n",
    "A=\\left(\n",
    "\\begin{matrix}\n",
    "3 + i&  2 & -i & 4 - 2i\\\\\n",
    "-2 & -3 &  i & -3 + i\\\\\n",
    "1 + i & -1 &  0 & 1 - i\\\\\n",
    "-1 + i &  -4 & i & -2\n",
    "\\end{matrix}\n",
    "\\right)\n",
    "$$\n",
    "показать, что $A = QR$."
   ]
  },
  {
   "cell_type": "code",
   "execution_count": null,
   "metadata": {
    "id": "XgPWaSWEfUHf"
   },
   "outputs": [],
   "source": []
  },
  {
   "cell_type": "markdown",
   "metadata": {
    "id": "148vFBzTfUHf"
   },
   "source": [
    "### Задание  5.\n",
    "Построить  жорданову форму для матрицы\n",
    "$$\n",
    "K=\\left(\n",
    "\\begin{matrix}\n",
    "1 &  -5 & 1 & -5\\\\\n",
    "-5 & 1 &  -5 &  1\\\\\n",
    "1 &  1 & 1 & 1\\\\\n",
    "-1 &  5 &  5 &  1\n",
    "\\end{matrix}\n",
    "\\right)\n",
    "$$"
   ]
  },
  {
   "cell_type": "code",
   "execution_count": null,
   "metadata": {
    "id": "WfQc8p5efUHf"
   },
   "outputs": [],
   "source": []
  }