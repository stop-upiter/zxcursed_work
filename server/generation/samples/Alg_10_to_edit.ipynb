{
 "cells": [
  {
   "cell_type": "code",
   "execution_count": null,
   "metadata": {
    "id": "eTUL_xdODebk"
   },
   "outputs": [],
   "source": [
    "import sympy\n",
    "from sympy import I\n",
    "import numpy as np\n",
    "import matplotlib.pyplot as plt"
   ]
  },
  {
   "cell_type": "markdown",
   "metadata": {
    "id": "NYucazc7Debp"
   },
   "source": [
    "# Практическое занятие 10\n",
    "# Компьютерный практикум по алгебре на Python\n",
    "## Комплексные числа в sympy\n",
    "### Задание 1.\n",
    "Даны комплексные числа\n",
    "$$\n",
    "z_1 = 5\\sqrt{3} + 5i,\\quad z_2 = -3 + 3i,\\quad z_3 = - 1 + i,\\quad z_4 = i,\\quad z_5 = \\frac{12}{13} + \\frac{5}{13}i,\n",
    "$$\n",
    "вычислить (представить в алгебраической форме) с помощью sympy\n",
    "$$\n",
    "z_1 \\cdot z_2,\\quad (z_2 - 5z_3)^6,\\quad \\sqrt{\\frac{z_4}{z_3}},\\quad \\frac{z_1^2 + z_3}{13z_5 - 2z_2}.\n",
    "$$"
   ]
  },
  {
   "cell_type": "code",
   "execution_count": null,
   "metadata": {
    "id": "E9iRFpK2MCTO"
   },
   "outputs": [],
   "source": []
  },
  {
   "cell_type": "markdown",
   "metadata": {
    "id": "hMWTheVHDebr"
   },
   "source": [
    "### Задание  2.\n",
    "Вычисления Задания 1 проделать для мнимой единицы из python (использовать встроенную функцию complex)."
   ]
  },
  {
   "cell_type": "code",
   "execution_count": null,
   "metadata": {
    "id": "rUaUUg7bMDfO"
   },
   "outputs": [],
   "source": []
  },
  {
   "cell_type": "markdown",
   "metadata": {
    "id": "tb3ET3y6Debs"
   },
   "source": [
    "### Задание  3.\n",
    "Изобразить на координатной плоскости точки, соответствующие корням  $7$-й степени комплексного числа $z = \\frac{3}{5} + i\\frac{3}{5}$. Подписать точки $Ak$, где $k$  - номер корня."
   ]
  },
  {
   "cell_type": "code",
   "execution_count": null,
   "metadata": {
    "id": "Hfw6-tc1MEk2"
   },
   "outputs": [],
   "source": []
  },
  {
   "cell_type": "markdown",
   "metadata": {
    "id": "t9mDRl5eDebt"
   },
   "source": [
    "### Задание  4.\n",
    "Изобразить на координатной плоскости точки, соответствующие $z_4 = - \\sqrt{3} + 3i$ и $\\bar{z_4}$, подписать $z_4$ тригонометрической формой, $\\bar{z_4}$ - экспоненциальной ($z = r e^{i\\varphi}$, $r$ и $\\varphi$ такие же, как в тригонометрической форме)."
   ]
  },
  {
   "cell_type": "code",
   "execution_count": null,
   "metadata": {
    "id": "8tJwH-zxMF-m"
   },
   "outputs": [],
   "source": []
  },
  {
   "cell_type": "markdown",
   "metadata": {
    "id": "GRVpOD5bDebv"
   },
   "source": [
    "#### Задание  5.\n",
    "Изобразить корни 4 степени числа $5e^{\\frac{i\\pi}{8}}$, в полярной системе координат, подписи к точкам - аргументы (углы) сответствующих комплексных чисел. \n",
    "\n",
    "Число вводить в тригонометрической форме, для получения корней комплексного числа $z = r(\\cos(\\varphi) + i\\sin(\\varphi))$ использовать формулу \n",
    "$\\sqrt[n]{z} = \\sqrt[n]{r}(\\cos(\\varphi_k) + i \\sin(\\varphi_k))$, \n",
    "$\\varphi_k = \\frac{\\varphi + 2\\pi k}{n}$, $k = 0, ..., n - 1$. \n",
    "\n",
    "Вывести алгебраическую форму полученных корней на экран и сравнить с результатом, полученным с помощью sympy.root (с использованием sympy.expand_complex для упрощения выражения). Аналитическое представление оказывается разным.\n",
    "\n",
    "Для каждого корня найти разность модуля разности корней, полученных двумя способами (т.е. нужно для каждой пары одинаковых корней, полученных двумя способами находить разность корней, вычислять модуль sympy.Abs этой разности и вычислить приближенное значение с помощью evalf())."
   ]
  },
  {
   "cell_type": "code",
   "execution_count": null,
   "metadata": {
    "id": "k0Ntj_GaMHE1"
   },
   "outputs": [],
   "source": []
  }