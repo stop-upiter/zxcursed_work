{
 "cells": [
  {
   "cell_type": "code",
   "execution_count": null,
   "metadata": {
    "id": "Ig822AfTLww6"
   },
   "outputs": [],
   "source": [
    "import sympy\n",
    "import numpy as np\n",
    "from sympy import latex, Matrix, plot, solve, linsolve, symbols, eye, zeros, Point, Line\n",
    "from sympy import pi as Pi\n",
    "from sympy import cos as Cos\n",
    "from sympy import sin as Sin\n",
    "import matplotlib.pyplot as plt\n",
    "from IPython.display import Math, Pretty"
   ]
  },
  {
   "cell_type": "markdown",
   "metadata": {
    "id": "4DENe_H3LwxI"
   },
   "source": [
    "# Практическое занятие 12\n",
    "# Компьютерный практикум по алгебре на Python\n",
    "### Задание 1.\n",
    "Написать функцию, составляющую матрицу линейного оператора поворота на alpha градусов или радиан По или Против часовой стрелки на плоскости. Параметры: обязательные - угол поворота, необязательные - тип меры угла (градусы или радианы), направление поворота (По или Против часовой стрелки). Значения по умолчанию - против часовой стрелки в радианах.\n",
    "\n",
    "Использовать полученную функцию для выведения на экран координат векторов, полученных поворотом вектора [1, 2] \n",
    "\n",
    "1) на 10, 20, 45 градусов По  часовой стрелке\n",
    "\n",
    "2) на $\\pi/3$ радиан Против часовой стрелки."
   ]
  },
  {
   "cell_type": "code",
   "execution_count": null,
   "metadata": {
    "id": "kuLhwIB7LwxJ"
   },
   "outputs": [],
   "source": []
  },
  {
   "cell_type": "markdown",
   "metadata": {
    "id": "nHWJPxVRLwxJ"
   },
   "source": [
    "### Задание 2.\n",
    "Найти собственные числа и собственные векторы линейного оператора, заданного матрицей \n",
    "$$\n",
    "\\left(\\begin{matrix}\n",
    "-34&20&-5\\\\\n",
    "-40&56&-20\\\\\n",
    "20&-8&50\n",
    "\\end{matrix}\\right)\n",
    "$$\n",
    "Воспользоваться eigenvals и eigenvects, проверить выполнение равенства нулю характеристического многочлена $|A-\\lambda E|$ и условия $Ax=\\lambda x$.\n"
   ]
  },
  {
   "cell_type": "code",
   "execution_count": null,
   "metadata": {
    "id": "InBHNKqlLwxK"
   },
   "outputs": [],
   "source": []
  },
  {
   "cell_type": "markdown",
   "metadata": {
    "id": "LU9wLIKdLwxK"
   },
   "source": [
    "### Задание 3.\n",
    "Построить матрицу оператора из задания 2 в базисе из векторов $(1,1,1)$, $(0,5,3)$ и $(1,6,0)$.\n"
   ]
  },
  {
   "cell_type": "code",
   "execution_count": null,
   "metadata": {
    "id": "DVXbLK3cLwxL"
   },
   "outputs": [],
   "source": []
  },
  {
   "cell_type": "markdown",
   "metadata": {
    "id": "BAb-ROH1LwxL"
   },
   "source": [
    "### Задание 4.\n",
    "Построить матрицу оператора из задания 2 в базисе из собственных векторов с помощью eigenvects и матрицы перехода. Сравнить диагональные элементы с собственными числами (вывести на экран собственные числа и матрицу в базисе из собственных векторов)."
   ]
  },
  {
   "cell_type": "code",
   "execution_count": null,
   "metadata": {
    "id": "wxAsdL3aLwxL"
   },
   "outputs": [],
   "source": []
  }